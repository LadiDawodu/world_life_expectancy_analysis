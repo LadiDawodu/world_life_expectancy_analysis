{
 "cells": [
  {
   "cell_type": "code",
   "execution_count": 1,
   "metadata": {},
   "outputs": [],
   "source": [
    "import mysql.connector"
   ]
  },
  {
   "cell_type": "code",
   "execution_count": 2,
   "metadata": {},
   "outputs": [
    {
     "name": "stdout",
     "output_type": "stream",
     "text": [
      "Connection to MySQL database established successfully!\n",
      "<function get_conn at 0x1063d6840>\n"
     ]
    }
   ],
   "source": [
    "def get_conn():\n",
    "\n",
    "        try:\n",
    "                conn = mysql.connector.connect(\n",
    "                host=\"127.0.0.1\",\n",
    "                user=\"root\",\n",
    "                password=\"Trickstar2andrew95!\",\n",
    "                database=\"work_life_expectancy\"\n",
    "        )\n",
    "                if conn.is_connected():\n",
    "                        print(\"Connection to MySQL database established successfully!\")\n",
    "                        return conn\n",
    "                else:\n",
    "                         print(\"Failed to establish connection to MySQL database!\")\n",
    "                         return None\n",
    "\n",
    "\n",
    "\n",
    "        except mysql.connector.Error as err:\n",
    "                print(\"Error:\", err)\n",
    "                return None\n",
    "\n",
    "conn = get_conn()\n",
    "print(get_conn)"
   ]
  }
 ],
 "metadata": {
  "kernelspec": {
   "display_name": "Python 3",
   "language": "python",
   "name": "python3"
  },
  "language_info": {
   "codemirror_mode": {
    "name": "ipython",
    "version": 3
   },
   "file_extension": ".py",
   "mimetype": "text/x-python",
   "name": "python",
   "nbconvert_exporter": "python",
   "pygments_lexer": "ipython3",
   "version": "3.12.1"
  }
 },
 "nbformat": 4,
 "nbformat_minor": 2
}
