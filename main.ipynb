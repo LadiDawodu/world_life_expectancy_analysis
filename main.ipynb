{
 "cells": [
  {
   "cell_type": "code",
   "execution_count": 1,
   "metadata": {},
   "outputs": [
    {
     "name": "stdout",
     "output_type": "stream",
     "text": [
      "Connection to MySQL database established successfully!\n",
      "<function get_conn at 0x147aa9120>\n"
     ]
    }
   ],
   "source": [
    "import mysql.connector\n",
    "import pandas as pd\n",
    "import matplotlib.pyplot as plt\n",
    "import seaborn as sns\n",
    "from src.db.conn import get_conn\n",
    "import plotly.express as px\n",
    "import plotly.graph_objects as go"
   ]
  },
  {
   "cell_type": "markdown",
   "metadata": {},
   "source": [
    "# Visualizaion"
   ]
  },
  {
   "cell_type": "markdown",
   "metadata": {},
   "source": [
    "# Average life expectancy by Year"
   ]
  },
  {
   "cell_type": "code",
   "execution_count": 5,
   "metadata": {},
   "outputs": [
    {
     "name": "stdout",
     "output_type": "stream",
     "text": [
      "Connection to MySQL database established successfully!\n"
     ]
    },
    {
     "data": {
      "application/vnd.plotly.v1+json": {
       "config": {
        "plotlyServerURL": "https://plot.ly"
       },
       "data": [
        {
         "alignmentgroup": "True",
         "bingroup": "x",
         "histfunc": "sum",
         "hovertemplate": "%{x}",
         "legendgroup": "",
         "marker": {
          "color": [
           "grey",
           "grey",
           "indianred",
           "grey",
           "grey",
           "grey",
           "grey",
           "grey",
           "grey",
           "grey",
           "grey",
           "grey",
           "grey",
           "indianred",
           "grey",
           "grey"
          ],
          "pattern": {
           "shape": ""
          }
         },
         "name": "",
         "offsetgroup": "",
         "orientation": "v",
         "showlegend": false,
         "type": "histogram",
         "x": [
          "2022",
          "2021",
          "2020",
          "2019",
          "2018",
          "2017",
          "2016",
          "2015",
          "2014",
          "2013",
          "2012",
          "2011",
          "2010",
          "2009",
          "2008",
          "2007"
         ],
         "xaxis": "x",
         "y": [
          71.6,
          71.4,
          67.3,
          70.8,
          70.3,
          70.1,
          69.7,
          69.4,
          69,
          68.6,
          68.3,
          67.9,
          67.6,
          67.3,
          67,
          66.8
         ],
         "yaxis": "y"
        },
        {
         "marker": {
          "color": "indianred"
         },
         "name": "Avg Life Exp",
         "showlegend": true,
         "type": "bar",
         "x": [
          "Avg Life Exp"
         ],
         "y": [
          0
         ]
        }
       ],
       "layout": {
        "barmode": "relative",
        "legend": {
         "tracegroupgap": 0
        },
        "template": {
         "data": {
          "bar": [
           {
            "error_x": {
             "color": "rgb(36,36,36)"
            },
            "error_y": {
             "color": "rgb(36,36,36)"
            },
            "marker": {
             "line": {
              "color": "white",
              "width": 0.5
             },
             "pattern": {
              "fillmode": "overlay",
              "size": 10,
              "solidity": 0.2
             }
            },
            "type": "bar"
           }
          ],
          "barpolar": [
           {
            "marker": {
             "line": {
              "color": "white",
              "width": 0.5
             },
             "pattern": {
              "fillmode": "overlay",
              "size": 10,
              "solidity": 0.2
             }
            },
            "type": "barpolar"
           }
          ],
          "carpet": [
           {
            "aaxis": {
             "endlinecolor": "rgb(36,36,36)",
             "gridcolor": "white",
             "linecolor": "white",
             "minorgridcolor": "white",
             "startlinecolor": "rgb(36,36,36)"
            },
            "baxis": {
             "endlinecolor": "rgb(36,36,36)",
             "gridcolor": "white",
             "linecolor": "white",
             "minorgridcolor": "white",
             "startlinecolor": "rgb(36,36,36)"
            },
            "type": "carpet"
           }
          ],
          "choropleth": [
           {
            "colorbar": {
             "outlinewidth": 1,
             "tickcolor": "rgb(36,36,36)",
             "ticks": "outside"
            },
            "type": "choropleth"
           }
          ],
          "contour": [
           {
            "colorbar": {
             "outlinewidth": 1,
             "tickcolor": "rgb(36,36,36)",
             "ticks": "outside"
            },
            "colorscale": [
             [
              0,
              "#440154"
             ],
             [
              0.1111111111111111,
              "#482878"
             ],
             [
              0.2222222222222222,
              "#3e4989"
             ],
             [
              0.3333333333333333,
              "#31688e"
             ],
             [
              0.4444444444444444,
              "#26828e"
             ],
             [
              0.5555555555555556,
              "#1f9e89"
             ],
             [
              0.6666666666666666,
              "#35b779"
             ],
             [
              0.7777777777777778,
              "#6ece58"
             ],
             [
              0.8888888888888888,
              "#b5de2b"
             ],
             [
              1,
              "#fde725"
             ]
            ],
            "type": "contour"
           }
          ],
          "contourcarpet": [
           {
            "colorbar": {
             "outlinewidth": 1,
             "tickcolor": "rgb(36,36,36)",
             "ticks": "outside"
            },
            "type": "contourcarpet"
           }
          ],
          "heatmap": [
           {
            "colorbar": {
             "outlinewidth": 1,
             "tickcolor": "rgb(36,36,36)",
             "ticks": "outside"
            },
            "colorscale": [
             [
              0,
              "#440154"
             ],
             [
              0.1111111111111111,
              "#482878"
             ],
             [
              0.2222222222222222,
              "#3e4989"
             ],
             [
              0.3333333333333333,
              "#31688e"
             ],
             [
              0.4444444444444444,
              "#26828e"
             ],
             [
              0.5555555555555556,
              "#1f9e89"
             ],
             [
              0.6666666666666666,
              "#35b779"
             ],
             [
              0.7777777777777778,
              "#6ece58"
             ],
             [
              0.8888888888888888,
              "#b5de2b"
             ],
             [
              1,
              "#fde725"
             ]
            ],
            "type": "heatmap"
           }
          ],
          "heatmapgl": [
           {
            "colorbar": {
             "outlinewidth": 1,
             "tickcolor": "rgb(36,36,36)",
             "ticks": "outside"
            },
            "colorscale": [
             [
              0,
              "#440154"
             ],
             [
              0.1111111111111111,
              "#482878"
             ],
             [
              0.2222222222222222,
              "#3e4989"
             ],
             [
              0.3333333333333333,
              "#31688e"
             ],
             [
              0.4444444444444444,
              "#26828e"
             ],
             [
              0.5555555555555556,
              "#1f9e89"
             ],
             [
              0.6666666666666666,
              "#35b779"
             ],
             [
              0.7777777777777778,
              "#6ece58"
             ],
             [
              0.8888888888888888,
              "#b5de2b"
             ],
             [
              1,
              "#fde725"
             ]
            ],
            "type": "heatmapgl"
           }
          ],
          "histogram": [
           {
            "marker": {
             "line": {
              "color": "white",
              "width": 0.6
             }
            },
            "type": "histogram"
           }
          ],
          "histogram2d": [
           {
            "colorbar": {
             "outlinewidth": 1,
             "tickcolor": "rgb(36,36,36)",
             "ticks": "outside"
            },
            "colorscale": [
             [
              0,
              "#440154"
             ],
             [
              0.1111111111111111,
              "#482878"
             ],
             [
              0.2222222222222222,
              "#3e4989"
             ],
             [
              0.3333333333333333,
              "#31688e"
             ],
             [
              0.4444444444444444,
              "#26828e"
             ],
             [
              0.5555555555555556,
              "#1f9e89"
             ],
             [
              0.6666666666666666,
              "#35b779"
             ],
             [
              0.7777777777777778,
              "#6ece58"
             ],
             [
              0.8888888888888888,
              "#b5de2b"
             ],
             [
              1,
              "#fde725"
             ]
            ],
            "type": "histogram2d"
           }
          ],
          "histogram2dcontour": [
           {
            "colorbar": {
             "outlinewidth": 1,
             "tickcolor": "rgb(36,36,36)",
             "ticks": "outside"
            },
            "colorscale": [
             [
              0,
              "#440154"
             ],
             [
              0.1111111111111111,
              "#482878"
             ],
             [
              0.2222222222222222,
              "#3e4989"
             ],
             [
              0.3333333333333333,
              "#31688e"
             ],
             [
              0.4444444444444444,
              "#26828e"
             ],
             [
              0.5555555555555556,
              "#1f9e89"
             ],
             [
              0.6666666666666666,
              "#35b779"
             ],
             [
              0.7777777777777778,
              "#6ece58"
             ],
             [
              0.8888888888888888,
              "#b5de2b"
             ],
             [
              1,
              "#fde725"
             ]
            ],
            "type": "histogram2dcontour"
           }
          ],
          "mesh3d": [
           {
            "colorbar": {
             "outlinewidth": 1,
             "tickcolor": "rgb(36,36,36)",
             "ticks": "outside"
            },
            "type": "mesh3d"
           }
          ],
          "parcoords": [
           {
            "line": {
             "colorbar": {
              "outlinewidth": 1,
              "tickcolor": "rgb(36,36,36)",
              "ticks": "outside"
             }
            },
            "type": "parcoords"
           }
          ],
          "pie": [
           {
            "automargin": true,
            "type": "pie"
           }
          ],
          "scatter": [
           {
            "fillpattern": {
             "fillmode": "overlay",
             "size": 10,
             "solidity": 0.2
            },
            "type": "scatter"
           }
          ],
          "scatter3d": [
           {
            "line": {
             "colorbar": {
              "outlinewidth": 1,
              "tickcolor": "rgb(36,36,36)",
              "ticks": "outside"
             }
            },
            "marker": {
             "colorbar": {
              "outlinewidth": 1,
              "tickcolor": "rgb(36,36,36)",
              "ticks": "outside"
             }
            },
            "type": "scatter3d"
           }
          ],
          "scattercarpet": [
           {
            "marker": {
             "colorbar": {
              "outlinewidth": 1,
              "tickcolor": "rgb(36,36,36)",
              "ticks": "outside"
             }
            },
            "type": "scattercarpet"
           }
          ],
          "scattergeo": [
           {
            "marker": {
             "colorbar": {
              "outlinewidth": 1,
              "tickcolor": "rgb(36,36,36)",
              "ticks": "outside"
             }
            },
            "type": "scattergeo"
           }
          ],
          "scattergl": [
           {
            "marker": {
             "colorbar": {
              "outlinewidth": 1,
              "tickcolor": "rgb(36,36,36)",
              "ticks": "outside"
             }
            },
            "type": "scattergl"
           }
          ],
          "scattermapbox": [
           {
            "marker": {
             "colorbar": {
              "outlinewidth": 1,
              "tickcolor": "rgb(36,36,36)",
              "ticks": "outside"
             }
            },
            "type": "scattermapbox"
           }
          ],
          "scatterpolar": [
           {
            "marker": {
             "colorbar": {
              "outlinewidth": 1,
              "tickcolor": "rgb(36,36,36)",
              "ticks": "outside"
             }
            },
            "type": "scatterpolar"
           }
          ],
          "scatterpolargl": [
           {
            "marker": {
             "colorbar": {
              "outlinewidth": 1,
              "tickcolor": "rgb(36,36,36)",
              "ticks": "outside"
             }
            },
            "type": "scatterpolargl"
           }
          ],
          "scatterternary": [
           {
            "marker": {
             "colorbar": {
              "outlinewidth": 1,
              "tickcolor": "rgb(36,36,36)",
              "ticks": "outside"
             }
            },
            "type": "scatterternary"
           }
          ],
          "surface": [
           {
            "colorbar": {
             "outlinewidth": 1,
             "tickcolor": "rgb(36,36,36)",
             "ticks": "outside"
            },
            "colorscale": [
             [
              0,
              "#440154"
             ],
             [
              0.1111111111111111,
              "#482878"
             ],
             [
              0.2222222222222222,
              "#3e4989"
             ],
             [
              0.3333333333333333,
              "#31688e"
             ],
             [
              0.4444444444444444,
              "#26828e"
             ],
             [
              0.5555555555555556,
              "#1f9e89"
             ],
             [
              0.6666666666666666,
              "#35b779"
             ],
             [
              0.7777777777777778,
              "#6ece58"
             ],
             [
              0.8888888888888888,
              "#b5de2b"
             ],
             [
              1,
              "#fde725"
             ]
            ],
            "type": "surface"
           }
          ],
          "table": [
           {
            "cells": {
             "fill": {
              "color": "rgb(237,237,237)"
             },
             "line": {
              "color": "white"
             }
            },
            "header": {
             "fill": {
              "color": "rgb(217,217,217)"
             },
             "line": {
              "color": "white"
             }
            },
            "type": "table"
           }
          ]
         },
         "layout": {
          "annotationdefaults": {
           "arrowhead": 0,
           "arrowwidth": 1
          },
          "autotypenumbers": "strict",
          "coloraxis": {
           "colorbar": {
            "outlinewidth": 1,
            "tickcolor": "rgb(36,36,36)",
            "ticks": "outside"
           }
          },
          "colorscale": {
           "diverging": [
            [
             0,
             "rgb(103,0,31)"
            ],
            [
             0.1,
             "rgb(178,24,43)"
            ],
            [
             0.2,
             "rgb(214,96,77)"
            ],
            [
             0.3,
             "rgb(244,165,130)"
            ],
            [
             0.4,
             "rgb(253,219,199)"
            ],
            [
             0.5,
             "rgb(247,247,247)"
            ],
            [
             0.6,
             "rgb(209,229,240)"
            ],
            [
             0.7,
             "rgb(146,197,222)"
            ],
            [
             0.8,
             "rgb(67,147,195)"
            ],
            [
             0.9,
             "rgb(33,102,172)"
            ],
            [
             1,
             "rgb(5,48,97)"
            ]
           ],
           "sequential": [
            [
             0,
             "#440154"
            ],
            [
             0.1111111111111111,
             "#482878"
            ],
            [
             0.2222222222222222,
             "#3e4989"
            ],
            [
             0.3333333333333333,
             "#31688e"
            ],
            [
             0.4444444444444444,
             "#26828e"
            ],
            [
             0.5555555555555556,
             "#1f9e89"
            ],
            [
             0.6666666666666666,
             "#35b779"
            ],
            [
             0.7777777777777778,
             "#6ece58"
            ],
            [
             0.8888888888888888,
             "#b5de2b"
            ],
            [
             1,
             "#fde725"
            ]
           ],
           "sequentialminus": [
            [
             0,
             "#440154"
            ],
            [
             0.1111111111111111,
             "#482878"
            ],
            [
             0.2222222222222222,
             "#3e4989"
            ],
            [
             0.3333333333333333,
             "#31688e"
            ],
            [
             0.4444444444444444,
             "#26828e"
            ],
            [
             0.5555555555555556,
             "#1f9e89"
            ],
            [
             0.6666666666666666,
             "#35b779"
            ],
            [
             0.7777777777777778,
             "#6ece58"
            ],
            [
             0.8888888888888888,
             "#b5de2b"
            ],
            [
             1,
             "#fde725"
            ]
           ]
          },
          "colorway": [
           "#1F77B4",
           "#FF7F0E",
           "#2CA02C",
           "#D62728",
           "#9467BD",
           "#8C564B",
           "#E377C2",
           "#7F7F7F",
           "#BCBD22",
           "#17BECF"
          ],
          "font": {
           "color": "rgb(36,36,36)"
          },
          "geo": {
           "bgcolor": "white",
           "lakecolor": "white",
           "landcolor": "white",
           "showlakes": true,
           "showland": true,
           "subunitcolor": "white"
          },
          "hoverlabel": {
           "align": "left"
          },
          "hovermode": "closest",
          "mapbox": {
           "style": "light"
          },
          "paper_bgcolor": "white",
          "plot_bgcolor": "white",
          "polar": {
           "angularaxis": {
            "gridcolor": "rgb(232,232,232)",
            "linecolor": "rgb(36,36,36)",
            "showgrid": false,
            "showline": true,
            "ticks": "outside"
           },
           "bgcolor": "white",
           "radialaxis": {
            "gridcolor": "rgb(232,232,232)",
            "linecolor": "rgb(36,36,36)",
            "showgrid": false,
            "showline": true,
            "ticks": "outside"
           }
          },
          "scene": {
           "xaxis": {
            "backgroundcolor": "white",
            "gridcolor": "rgb(232,232,232)",
            "gridwidth": 2,
            "linecolor": "rgb(36,36,36)",
            "showbackground": true,
            "showgrid": false,
            "showline": true,
            "ticks": "outside",
            "zeroline": false,
            "zerolinecolor": "rgb(36,36,36)"
           },
           "yaxis": {
            "backgroundcolor": "white",
            "gridcolor": "rgb(232,232,232)",
            "gridwidth": 2,
            "linecolor": "rgb(36,36,36)",
            "showbackground": true,
            "showgrid": false,
            "showline": true,
            "ticks": "outside",
            "zeroline": false,
            "zerolinecolor": "rgb(36,36,36)"
           },
           "zaxis": {
            "backgroundcolor": "white",
            "gridcolor": "rgb(232,232,232)",
            "gridwidth": 2,
            "linecolor": "rgb(36,36,36)",
            "showbackground": true,
            "showgrid": false,
            "showline": true,
            "ticks": "outside",
            "zeroline": false,
            "zerolinecolor": "rgb(36,36,36)"
           }
          },
          "shapedefaults": {
           "fillcolor": "black",
           "line": {
            "width": 0
           },
           "opacity": 0.3
          },
          "ternary": {
           "aaxis": {
            "gridcolor": "rgb(232,232,232)",
            "linecolor": "rgb(36,36,36)",
            "showgrid": false,
            "showline": true,
            "ticks": "outside"
           },
           "baxis": {
            "gridcolor": "rgb(232,232,232)",
            "linecolor": "rgb(36,36,36)",
            "showgrid": false,
            "showline": true,
            "ticks": "outside"
           },
           "bgcolor": "white",
           "caxis": {
            "gridcolor": "rgb(232,232,232)",
            "linecolor": "rgb(36,36,36)",
            "showgrid": false,
            "showline": true,
            "ticks": "outside"
           }
          },
          "title": {
           "x": 0.05
          },
          "xaxis": {
           "automargin": true,
           "gridcolor": "rgb(232,232,232)",
           "linecolor": "rgb(36,36,36)",
           "showgrid": false,
           "showline": true,
           "ticks": "outside",
           "title": {
            "standoff": 15
           },
           "zeroline": false,
           "zerolinecolor": "rgb(36,36,36)"
          },
          "yaxis": {
           "automargin": true,
           "gridcolor": "rgb(232,232,232)",
           "linecolor": "rgb(36,36,36)",
           "showgrid": false,
           "showline": true,
           "ticks": "outside",
           "title": {
            "standoff": 15
           },
           "zeroline": false,
           "zerolinecolor": "rgb(36,36,36)"
          }
         }
        },
        "title": {
         "text": "<b>Average World life expectancy </b><br><sup>By Year<sup>"
        },
        "xaxis": {
         "anchor": "y",
         "domain": [
          0,
          1
         ],
         "showticklabels": false,
         "tickfont": {
          "size": 12
         },
         "title": {
          "text": ""
         }
        },
        "yaxis": {
         "anchor": "x",
         "domain": [
          0,
          1
         ],
         "tickfont": {
          "size": 12
         },
         "title": {
          "text": ""
         }
        }
       }
      }
     },
     "metadata": {},
     "output_type": "display_data"
    }
   ],
   "source": [
    "# Connect SQL\n",
    "conn = get_conn()\n",
    "\n",
    "\n",
    "cursor = conn.cursor()\n",
    "\n",
    "\n",
    "query = \"\"\"select year, round(AVG(`Life expectancy`),1) as AVG_Life_Expectancy\n",
    "from worldlifeexpectancy\n",
    "#where (`Life expectancy`) <> 0\n",
    "#and (`Life expectancy`) <> 0\n",
    "group by year\n",
    "order by year asc;\"\"\"\n",
    "cursor.execute(query)\n",
    "data = cursor.fetchall()\n",
    "\n",
    "year = [row[0] for row in data]\n",
    "Avg_Life_Expectancy = [row[1] for row in data]\n",
    "data = pd.DataFrame({'Year': year, 'Avg Life Exp': Avg_Life_Expectancy})\n",
    "\n",
    "data.sort_values('Year', ascending=False, inplace=True)\n",
    "fig = px.histogram(\n",
    "        data, x='Year', y='Avg Life Exp',\n",
    "        template='simple_white',\n",
    "        title=\"<b>Average World life expectancy </b><br><sup>By Year<sup>\",\n",
    "        hover_name='Avg Life Exp'\n",
    "        \n",
    "        )\n",
    "\n",
    "thirteenth_value = sorted(set(data['Avg Life Exp']))[2]\n",
    "\n",
    "fig.update_traces(marker_color=['indianred' if x == thirteenth_value else 'grey' for x in data['Avg Life Exp']],hovertemplate='%{x}')\n",
    "\n",
    "\n",
    "fig.add_trace(\n",
    "    go.Bar(x=['Avg Life Exp'], y=[0], marker=dict(color='indianred'), showlegend=True, name='Avg Life Exp')\n",
    ")\n",
    "\n",
    "fig.update_xaxes(tickfont=dict(size=12), title_text='', showticklabels=False )\n",
    "fig.update_yaxes(tickfont=dict(size=12),title_text='')\n",
    "fig.show()"
   ]
  },
  {
   "cell_type": "markdown",
   "metadata": {},
   "source": [
    "# Check GDP correlation and Life expectancy"
   ]
  },
  {
   "cell_type": "code",
   "execution_count": 7,
   "metadata": {},
   "outputs": [
    {
     "name": "stdout",
     "output_type": "stream",
     "text": [
      "Connection to MySQL database established successfully!\n"
     ]
    },
    {
     "data": {
      "application/vnd.plotly.v1+json": {
       "config": {
        "plotlyServerURL": "https://plot.ly"
       },
       "data": [
        {
         "customdata": [
          [
           "Somalia",
           53.3,
           55.81
          ],
          [
           "Burundi",
           56.1,
           137.88
          ],
          [
           "Eritrea",
           59.8,
           194.56
          ],
          [
           "Malawi",
           49.9,
           237.56
          ],
          [
           "Liberia",
           57.6,
           246.25
          ],
          [
           "Niger",
           56.5,
           259.94
          ],
          [
           "Ethiopia",
           59,
           265
          ],
          [
           "Sierra Leone",
           45.8,
           271.56
          ],
          [
           "Senegal",
           62.6,
           274.69
          ],
          [
           "Guinea",
           56,
           279.5
          ],
          [
           "Rwanda",
           59.1,
           300.12
          ],
          [
           "Madagascar",
           62.7,
           314.19
          ],
          [
           "Togo",
           56.7,
           317.12
          ],
          [
           "Tajikistan",
           66.6,
           335.75
          ],
          [
           "Afghanistan",
           55,
           340.12
          ],
          [
           "Central African Republic",
           48.4,
           363
          ],
          [
           "Mozambique",
           53.4,
           365.06
          ],
          [
           "Guinea-Bissau",
           55.4,
           384.44
          ],
          [
           "Nepal",
           66.4,
           395.38
          ],
          [
           "Burkina Faso",
           55.5,
           410.5
          ],
          [
           "Zimbabwe",
           51.2,
           411.06
          ],
          [
           "Uganda",
           55.5,
           421.12
          ],
          [
           "Haiti",
           59.9,
           434.44
          ],
          [
           "Bangladesh",
           69.2,
           443.75
          ],
          [
           "Cambodia",
           64.3,
           466.25
          ],
          [
           "Chad",
           50.4,
           484.88
          ],
          [
           "Mali",
           54.7,
           530.56
          ],
          [
           "Syrian Arab Republic",
           70.8,
           543.69
          ],
          [
           "South Sudan",
           53.8,
           546.19
          ],
          [
           "Timor-Leste",
           64.7,
           551.88
          ],
          [
           "Benin",
           57.6,
           561.31
          ],
          [
           "Myanmar",
           64.2,
           616.31
          ],
          [
           "Comoros",
           61.6,
           630.44
          ],
          [
           "Mauritania",
           62.7,
           635.12
          ],
          [
           "Uzbekistan",
           68.1,
           651.12
          ],
          [
           "Pakistan",
           64.5,
           666.12
          ],
          [
           "Papua New Guinea",
           61.7,
           710.75
          ],
          [
           "Kenya",
           57.5,
           716.81
          ],
          [
           "Sao Tome and Principe",
           65.1,
           722.94
          ],
          [
           "Cameroon",
           54.1,
           781
          ],
          [
           "Lesotho",
           49.1,
           794.56
          ],
          [
           "Solomon Islands",
           67.7,
           802
          ],
          [
           "Zambia",
           53.8,
           811.81
          ],
          [
           "Ghana",
           60.9,
           834.44
          ],
          [
           "India",
           65.4,
           837.88
          ],
          [
           "Djibouti",
           60.8,
           898.06
          ],
          [
           "Nicaragua",
           73.4,
           958
          ],
          [
           "Sri Lanka",
           73.3,
           1040.31
          ],
          [
           "Kiribati",
           65.1,
           1175.44
          ],
          [
           "Sudan",
           61.8,
           1193
          ],
          [
           "Bhutan",
           66.2,
           1354.19
          ],
          [
           "Nigeria",
           51.4,
           1360.25
          ],
          [
           "Philippines",
           67.6,
           1397.25
          ],
          [
           "Honduras",
           73,
           1422
          ],
          [
           "Ukraine",
           69.6,
           1577.44
          ],
          [
           "Indonesia",
           67.6,
           1669.25
          ],
          [
           "Guyana",
           65.7,
           1784.06
          ],
          [
           "Jordan",
           73,
           1822.62
          ],
          [
           "Morocco",
           72.1,
           1936.5
          ],
          [
           "Angola",
           49,
           1975.19
          ],
          [
           "Tonga",
           72.6,
           1981.62
          ],
          [
           "Paraguay",
           73.7,
           1983.5
          ],
          [
           "Mongolia",
           65.9,
           1984.81
          ],
          [
           "Armenia",
           73.4,
           2000
          ],
          [
           "Vanuatu",
           71.4,
           2000.25
          ],
          [
           "Ecuador",
           74.7,
           2005.44
          ],
          [
           "Cabo Verde",
           72.2,
           2023.62
          ],
          [
           "Albania",
           70.7,
           2119.81
          ],
          [
           "Samoa",
           73.4,
           2121.69
          ],
          [
           "Georgia",
           73.4,
           2158.38
          ],
          [
           "Swaziland",
           51.5,
           2165.19
          ],
          [
           "Bosnia and Herzegovina",
           76,
           2245.06
          ],
          [
           "China",
           74.2,
           2345.31
          ],
          [
           "Guatemala",
           71.7,
           2366
          ],
          [
           "Jamaica",
           74.3,
           2509.62
          ],
          [
           "Turkmenistan",
           64.7,
           2511.69
          ],
          [
           "El Salvador",
           71.7,
           2517.88
          ],
          [
           "Iraq",
           70.2,
           2656.94
          ],
          [
           "Algeria",
           73.6,
           2847.81
          ],
          [
           "Peru",
           73.6,
           2928.62
          ],
          [
           "Fiji",
           68.7,
           2947.75
          ],
          [
           "Namibia",
           60.5,
           3042.62
          ],
          [
           "Tunisia",
           74.4,
           3044.25
          ],
          [
           "Cuba",
           78,
           3180.5
          ],
          [
           "Azerbaijan",
           70.7,
           3302.94
          ],
          [
           "Colombia",
           73.3,
           3321.69
          ],
          [
           "Libya",
           73,
           3448.75
          ],
          [
           "Thailand",
           73.1,
           3494.88
          ],
          [
           "Dominican Republic",
           72.4,
           3509.69
          ],
          [
           "Serbia",
           74,
           3674.5
          ],
          [
           "Belarus",
           69.9,
           3811.44
          ],
          [
           "Maldives",
           75.2,
           3818.38
          ],
          [
           "Belize",
           69.4,
           3933
          ],
          [
           "Costa Rica",
           78.6,
           3957.19
          ],
          [
           "Turkey",
           73.9,
           3984.12
          ],
          [
           "Kazakhstan",
           66.9,
           4040.56
          ],
          [
           "Romania",
           74.1,
           4258.94
          ],
          [
           "Botswana",
           56.2,
           4498.44
          ],
          [
           "Montenegro",
           74.5,
           4676.5
          ],
          [
           "Lebanon",
           74.2,
           4696.25
          ],
          [
           "Suriname",
           70,
           4781.31
          ],
          [
           "South Africa",
           57.6,
           4869.56
          ],
          [
           "Malaysia",
           73.7,
           4905
          ],
          [
           "Bulgaria",
           72.8,
           4939.06
          ],
          [
           "Gabon",
           62.4,
           5179.31
          ],
          [
           "Mexico",
           75.7,
           5179.44
          ],
          [
           "Mauritius",
           72.7,
           5299.56
          ],
          [
           "Panama",
           76.5,
           5417.81
          ],
          [
           "Brazil",
           73.7,
           6143.31
          ],
          [
           "Chile",
           79.6,
           6202.31
          ],
          [
           "Grenada",
           73.1,
           6259.69
          ],
          [
           "Seychelles",
           72.4,
           6496.38
          ],
          [
           "Russian Federation",
           68,
           6545.19
          ],
          [
           "Poland",
           75.6,
           6792.62
          ],
          [
           "Argentina",
           75.2,
           6998.56
          ],
          [
           "Uruguay",
           76.1,
           7192.62
          ],
          [
           "Oman",
           74.8,
           7621.31
          ],
          [
           "Trinidad and Tobago",
           71,
           7741.88
          ],
          [
           "Equatorial Guinea",
           55.3,
           7902.38
          ],
          [
           "Latvia",
           73.7,
           7951.88
          ],
          [
           "Estonia",
           75.2,
           8340.5
          ],
          [
           "Hungary",
           73.8,
           8513.81
          ],
          [
           "Lithuania",
           72.9,
           9007.5
          ],
          [
           "Croatia",
           76.1,
           9056.88
          ],
          [
           "Antigua and Barbuda",
           75.1,
           9759.25
          ],
          [
           "Malta",
           80.3,
           10115
          ],
          [
           "Saudi Arabia",
           73.5,
           10689.12
          ],
          [
           "Bahrain",
           75.7,
           11191.19
          ],
          [
           "Slovenia",
           79.9,
           11441.12
          ],
          [
           "Portugal",
           79.5,
           11598.69
          ],
          [
           "Barbados",
           74.4,
           12017.19
          ],
          [
           "Cyprus",
           79.9,
           13899.06
          ],
          [
           "New Zealand",
           81.3,
           14775.56
          ],
          [
           "Greece",
           80.8,
           16454.25
          ],
          [
           "Belgium",
           80.2,
           16915.38
          ],
          [
           "Spain",
           82.1,
           17093.62
          ],
          [
           "Israel",
           81.3,
           18860.44
          ],
          [
           "Brunei Darussalam",
           76.5,
           19744.75
          ],
          [
           "Italy",
           82.1,
           21234.81
          ],
          [
           "United Arab Emirates",
           75.7,
           22110.44
          ],
          [
           "Germany",
           80.7,
           24337.81
          ],
          [
           "Japan",
           82.5,
           24892.56
          ],
          [
           "Finland",
           80.2,
           25268.62
          ],
          [
           "France",
           82.2,
           26465.56
          ],
          [
           "Norway",
           81.8,
           27435.06
          ],
          [
           "Sweden",
           82.5,
           29334.94
          ],
          [
           "Canada",
           81.7,
           29383.06
          ],
          [
           "Iceland",
           82.3,
           30159.38
          ],
          [
           "Kuwait",
           73.9,
           31914.44
          ],
          [
           "Singapore",
           81.4,
           32790.31
          ],
          [
           "Denmark",
           79.5,
           33067.62
          ],
          [
           "Austria",
           81.4,
           33827.5
          ],
          [
           "Ireland",
           80.1,
           33835.31
          ],
          [
           "Australia",
           81.7,
           34637.56
          ],
          [
           "Netherlands",
           81.2,
           34964.75
          ],
          [
           "Qatar",
           77,
           40748.56
          ],
          [
           "Luxembourg",
           80.8,
           53257.12
          ],
          [
           "Switzerland",
           82.1,
           57363.06
          ]
         ],
         "hovertemplate": "<b>Country</b>: %{customdata[0]}<br><b>Avg Life Exp</b>: %{customdata[1]:.1f} years<br><b>Avg GDP</b>: %{customdata[2]:.2f}",
         "hovertext": [
          "Somalia",
          "Burundi",
          "Eritrea",
          "Malawi",
          "Liberia",
          "Niger",
          "Ethiopia",
          "Sierra Leone",
          "Senegal",
          "Guinea",
          "Rwanda",
          "Madagascar",
          "Togo",
          "Tajikistan",
          "Afghanistan",
          "Central African Republic",
          "Mozambique",
          "Guinea-Bissau",
          "Nepal",
          "Burkina Faso",
          "Zimbabwe",
          "Uganda",
          "Haiti",
          "Bangladesh",
          "Cambodia",
          "Chad",
          "Mali",
          "Syrian Arab Republic",
          "South Sudan",
          "Timor-Leste",
          "Benin",
          "Myanmar",
          "Comoros",
          "Mauritania",
          "Uzbekistan",
          "Pakistan",
          "Papua New Guinea",
          "Kenya",
          "Sao Tome and Principe",
          "Cameroon",
          "Lesotho",
          "Solomon Islands",
          "Zambia",
          "Ghana",
          "India",
          "Djibouti",
          "Nicaragua",
          "Sri Lanka",
          "Kiribati",
          "Sudan",
          "Bhutan",
          "Nigeria",
          "Philippines",
          "Honduras",
          "Ukraine",
          "Indonesia",
          "Guyana",
          "Jordan",
          "Morocco",
          "Angola",
          "Tonga",
          "Paraguay",
          "Mongolia",
          "Armenia",
          "Vanuatu",
          "Ecuador",
          "Cabo Verde",
          "Albania",
          "Samoa",
          "Georgia",
          "Swaziland",
          "Bosnia and Herzegovina",
          "China",
          "Guatemala",
          "Jamaica",
          "Turkmenistan",
          "El Salvador",
          "Iraq",
          "Algeria",
          "Peru",
          "Fiji",
          "Namibia",
          "Tunisia",
          "Cuba",
          "Azerbaijan",
          "Colombia",
          "Libya",
          "Thailand",
          "Dominican Republic",
          "Serbia",
          "Belarus",
          "Maldives",
          "Belize",
          "Costa Rica",
          "Turkey",
          "Kazakhstan",
          "Romania",
          "Botswana",
          "Montenegro",
          "Lebanon",
          "Suriname",
          "South Africa",
          "Malaysia",
          "Bulgaria",
          "Gabon",
          "Mexico",
          "Mauritius",
          "Panama",
          "Brazil",
          "Chile",
          "Grenada",
          "Seychelles",
          "Russian Federation",
          "Poland",
          "Argentina",
          "Uruguay",
          "Oman",
          "Trinidad and Tobago",
          "Equatorial Guinea",
          "Latvia",
          "Estonia",
          "Hungary",
          "Lithuania",
          "Croatia",
          "Antigua and Barbuda",
          "Malta",
          "Saudi Arabia",
          "Bahrain",
          "Slovenia",
          "Portugal",
          "Barbados",
          "Cyprus",
          "New Zealand",
          "Greece",
          "Belgium",
          "Spain",
          "Israel",
          "Brunei Darussalam",
          "Italy",
          "United Arab Emirates",
          "Germany",
          "Japan",
          "Finland",
          "France",
          "Norway",
          "Sweden",
          "Canada",
          "Iceland",
          "Kuwait",
          "Singapore",
          "Denmark",
          "Austria",
          "Ireland",
          "Australia",
          "Netherlands",
          "Qatar",
          "Luxembourg",
          "Switzerland"
         ],
         "legendgroup": "",
         "marker": {
          "color": [
           53.3,
           56.1,
           59.8,
           49.9,
           57.6,
           56.5,
           59,
           45.8,
           62.6,
           56,
           59.1,
           62.7,
           56.7,
           66.6,
           55,
           48.4,
           53.4,
           55.4,
           66.4,
           55.5,
           51.2,
           55.5,
           59.9,
           69.2,
           64.3,
           50.4,
           54.7,
           70.8,
           53.8,
           64.7,
           57.6,
           64.2,
           61.6,
           62.7,
           68.1,
           64.5,
           61.7,
           57.5,
           65.1,
           54.1,
           49.1,
           67.7,
           53.8,
           60.9,
           65.4,
           60.8,
           73.4,
           73.3,
           65.1,
           61.8,
           66.2,
           51.4,
           67.6,
           73,
           69.6,
           67.6,
           65.7,
           73,
           72.1,
           49,
           72.6,
           73.7,
           65.9,
           73.4,
           71.4,
           74.7,
           72.2,
           70.7,
           73.4,
           73.4,
           51.5,
           76,
           74.2,
           71.7,
           74.3,
           64.7,
           71.7,
           70.2,
           73.6,
           73.6,
           68.7,
           60.5,
           74.4,
           78,
           70.7,
           73.3,
           73,
           73.1,
           72.4,
           74,
           69.9,
           75.2,
           69.4,
           78.6,
           73.9,
           66.9,
           74.1,
           56.2,
           74.5,
           74.2,
           70,
           57.6,
           73.7,
           72.8,
           62.4,
           75.7,
           72.7,
           76.5,
           73.7,
           79.6,
           73.1,
           72.4,
           68,
           75.6,
           75.2,
           76.1,
           74.8,
           71,
           55.3,
           73.7,
           75.2,
           73.8,
           72.9,
           76.1,
           75.1,
           80.3,
           73.5,
           75.7,
           79.9,
           79.5,
           74.4,
           79.9,
           81.3,
           80.8,
           80.2,
           82.1,
           81.3,
           76.5,
           82.1,
           75.7,
           80.7,
           82.5,
           80.2,
           82.2,
           81.8,
           82.5,
           81.7,
           82.3,
           73.9,
           81.4,
           79.5,
           81.4,
           80.1,
           81.7,
           81.2,
           77,
           80.8,
           82.1
          ],
          "coloraxis": "coloraxis",
          "symbol": "circle"
         },
         "mode": "markers",
         "name": "",
         "orientation": "v",
         "showlegend": false,
         "type": "scatter",
         "x": [
          53.3,
          56.1,
          59.8,
          49.9,
          57.6,
          56.5,
          59,
          45.8,
          62.6,
          56,
          59.1,
          62.7,
          56.7,
          66.6,
          55,
          48.4,
          53.4,
          55.4,
          66.4,
          55.5,
          51.2,
          55.5,
          59.9,
          69.2,
          64.3,
          50.4,
          54.7,
          70.8,
          53.8,
          64.7,
          57.6,
          64.2,
          61.6,
          62.7,
          68.1,
          64.5,
          61.7,
          57.5,
          65.1,
          54.1,
          49.1,
          67.7,
          53.8,
          60.9,
          65.4,
          60.8,
          73.4,
          73.3,
          65.1,
          61.8,
          66.2,
          51.4,
          67.6,
          73,
          69.6,
          67.6,
          65.7,
          73,
          72.1,
          49,
          72.6,
          73.7,
          65.9,
          73.4,
          71.4,
          74.7,
          72.2,
          70.7,
          73.4,
          73.4,
          51.5,
          76,
          74.2,
          71.7,
          74.3,
          64.7,
          71.7,
          70.2,
          73.6,
          73.6,
          68.7,
          60.5,
          74.4,
          78,
          70.7,
          73.3,
          73,
          73.1,
          72.4,
          74,
          69.9,
          75.2,
          69.4,
          78.6,
          73.9,
          66.9,
          74.1,
          56.2,
          74.5,
          74.2,
          70,
          57.6,
          73.7,
          72.8,
          62.4,
          75.7,
          72.7,
          76.5,
          73.7,
          79.6,
          73.1,
          72.4,
          68,
          75.6,
          75.2,
          76.1,
          74.8,
          71,
          55.3,
          73.7,
          75.2,
          73.8,
          72.9,
          76.1,
          75.1,
          80.3,
          73.5,
          75.7,
          79.9,
          79.5,
          74.4,
          79.9,
          81.3,
          80.8,
          80.2,
          82.1,
          81.3,
          76.5,
          82.1,
          75.7,
          80.7,
          82.5,
          80.2,
          82.2,
          81.8,
          82.5,
          81.7,
          82.3,
          73.9,
          81.4,
          79.5,
          81.4,
          80.1,
          81.7,
          81.2,
          77,
          80.8,
          82.1
         ],
         "xaxis": "x",
         "y": [
          55.81,
          137.88,
          194.56,
          237.56,
          246.25,
          259.94,
          265,
          271.56,
          274.69,
          279.5,
          300.12,
          314.19,
          317.12,
          335.75,
          340.12,
          363,
          365.06,
          384.44,
          395.38,
          410.5,
          411.06,
          421.12,
          434.44,
          443.75,
          466.25,
          484.88,
          530.56,
          543.69,
          546.19,
          551.88,
          561.31,
          616.31,
          630.44,
          635.12,
          651.12,
          666.12,
          710.75,
          716.81,
          722.94,
          781,
          794.56,
          802,
          811.81,
          834.44,
          837.88,
          898.06,
          958,
          1040.31,
          1175.44,
          1193,
          1354.19,
          1360.25,
          1397.25,
          1422,
          1577.44,
          1669.25,
          1784.06,
          1822.62,
          1936.5,
          1975.19,
          1981.62,
          1983.5,
          1984.81,
          2000,
          2000.25,
          2005.44,
          2023.62,
          2119.81,
          2121.69,
          2158.38,
          2165.19,
          2245.06,
          2345.31,
          2366,
          2509.62,
          2511.69,
          2517.88,
          2656.94,
          2847.81,
          2928.62,
          2947.75,
          3042.62,
          3044.25,
          3180.5,
          3302.94,
          3321.69,
          3448.75,
          3494.88,
          3509.69,
          3674.5,
          3811.44,
          3818.38,
          3933,
          3957.19,
          3984.12,
          4040.56,
          4258.94,
          4498.44,
          4676.5,
          4696.25,
          4781.31,
          4869.56,
          4905,
          4939.06,
          5179.31,
          5179.44,
          5299.56,
          5417.81,
          6143.31,
          6202.31,
          6259.69,
          6496.38,
          6545.19,
          6792.62,
          6998.56,
          7192.62,
          7621.31,
          7741.88,
          7902.38,
          7951.88,
          8340.5,
          8513.81,
          9007.5,
          9056.88,
          9759.25,
          10115,
          10689.12,
          11191.19,
          11441.12,
          11598.69,
          12017.19,
          13899.06,
          14775.56,
          16454.25,
          16915.38,
          17093.62,
          18860.44,
          19744.75,
          21234.81,
          22110.44,
          24337.81,
          24892.56,
          25268.62,
          26465.56,
          27435.06,
          29334.94,
          29383.06,
          30159.38,
          31914.44,
          32790.31,
          33067.62,
          33827.5,
          33835.31,
          34637.56,
          34964.75,
          40748.56,
          53257.12,
          57363.06
         ],
         "yaxis": "y"
        }
       ],
       "layout": {
        "coloraxis": {
         "colorbar": {
          "title": {
           "text": "Average Life Expectancy"
          }
         },
         "colorscale": [
          [
           0,
           "rgb(255,245,240)"
          ],
          [
           0.125,
           "rgb(254,224,210)"
          ],
          [
           0.25,
           "rgb(252,187,161)"
          ],
          [
           0.375,
           "rgb(252,146,114)"
          ],
          [
           0.5,
           "rgb(251,106,74)"
          ],
          [
           0.625,
           "rgb(239,59,44)"
          ],
          [
           0.75,
           "rgb(203,24,29)"
          ],
          [
           0.875,
           "rgb(165,15,21)"
          ],
          [
           1,
           "rgb(103,0,13)"
          ]
         ]
        },
        "legend": {
         "tracegroupgap": 0
        },
        "template": {
         "data": {
          "bar": [
           {
            "error_x": {
             "color": "rgb(36,36,36)"
            },
            "error_y": {
             "color": "rgb(36,36,36)"
            },
            "marker": {
             "line": {
              "color": "white",
              "width": 0.5
             },
             "pattern": {
              "fillmode": "overlay",
              "size": 10,
              "solidity": 0.2
             }
            },
            "type": "bar"
           }
          ],
          "barpolar": [
           {
            "marker": {
             "line": {
              "color": "white",
              "width": 0.5
             },
             "pattern": {
              "fillmode": "overlay",
              "size": 10,
              "solidity": 0.2
             }
            },
            "type": "barpolar"
           }
          ],
          "carpet": [
           {
            "aaxis": {
             "endlinecolor": "rgb(36,36,36)",
             "gridcolor": "white",
             "linecolor": "white",
             "minorgridcolor": "white",
             "startlinecolor": "rgb(36,36,36)"
            },
            "baxis": {
             "endlinecolor": "rgb(36,36,36)",
             "gridcolor": "white",
             "linecolor": "white",
             "minorgridcolor": "white",
             "startlinecolor": "rgb(36,36,36)"
            },
            "type": "carpet"
           }
          ],
          "choropleth": [
           {
            "colorbar": {
             "outlinewidth": 1,
             "tickcolor": "rgb(36,36,36)",
             "ticks": "outside"
            },
            "type": "choropleth"
           }
          ],
          "contour": [
           {
            "colorbar": {
             "outlinewidth": 1,
             "tickcolor": "rgb(36,36,36)",
             "ticks": "outside"
            },
            "colorscale": [
             [
              0,
              "#440154"
             ],
             [
              0.1111111111111111,
              "#482878"
             ],
             [
              0.2222222222222222,
              "#3e4989"
             ],
             [
              0.3333333333333333,
              "#31688e"
             ],
             [
              0.4444444444444444,
              "#26828e"
             ],
             [
              0.5555555555555556,
              "#1f9e89"
             ],
             [
              0.6666666666666666,
              "#35b779"
             ],
             [
              0.7777777777777778,
              "#6ece58"
             ],
             [
              0.8888888888888888,
              "#b5de2b"
             ],
             [
              1,
              "#fde725"
             ]
            ],
            "type": "contour"
           }
          ],
          "contourcarpet": [
           {
            "colorbar": {
             "outlinewidth": 1,
             "tickcolor": "rgb(36,36,36)",
             "ticks": "outside"
            },
            "type": "contourcarpet"
           }
          ],
          "heatmap": [
           {
            "colorbar": {
             "outlinewidth": 1,
             "tickcolor": "rgb(36,36,36)",
             "ticks": "outside"
            },
            "colorscale": [
             [
              0,
              "#440154"
             ],
             [
              0.1111111111111111,
              "#482878"
             ],
             [
              0.2222222222222222,
              "#3e4989"
             ],
             [
              0.3333333333333333,
              "#31688e"
             ],
             [
              0.4444444444444444,
              "#26828e"
             ],
             [
              0.5555555555555556,
              "#1f9e89"
             ],
             [
              0.6666666666666666,
              "#35b779"
             ],
             [
              0.7777777777777778,
              "#6ece58"
             ],
             [
              0.8888888888888888,
              "#b5de2b"
             ],
             [
              1,
              "#fde725"
             ]
            ],
            "type": "heatmap"
           }
          ],
          "heatmapgl": [
           {
            "colorbar": {
             "outlinewidth": 1,
             "tickcolor": "rgb(36,36,36)",
             "ticks": "outside"
            },
            "colorscale": [
             [
              0,
              "#440154"
             ],
             [
              0.1111111111111111,
              "#482878"
             ],
             [
              0.2222222222222222,
              "#3e4989"
             ],
             [
              0.3333333333333333,
              "#31688e"
             ],
             [
              0.4444444444444444,
              "#26828e"
             ],
             [
              0.5555555555555556,
              "#1f9e89"
             ],
             [
              0.6666666666666666,
              "#35b779"
             ],
             [
              0.7777777777777778,
              "#6ece58"
             ],
             [
              0.8888888888888888,
              "#b5de2b"
             ],
             [
              1,
              "#fde725"
             ]
            ],
            "type": "heatmapgl"
           }
          ],
          "histogram": [
           {
            "marker": {
             "line": {
              "color": "white",
              "width": 0.6
             }
            },
            "type": "histogram"
           }
          ],
          "histogram2d": [
           {
            "colorbar": {
             "outlinewidth": 1,
             "tickcolor": "rgb(36,36,36)",
             "ticks": "outside"
            },
            "colorscale": [
             [
              0,
              "#440154"
             ],
             [
              0.1111111111111111,
              "#482878"
             ],
             [
              0.2222222222222222,
              "#3e4989"
             ],
             [
              0.3333333333333333,
              "#31688e"
             ],
             [
              0.4444444444444444,
              "#26828e"
             ],
             [
              0.5555555555555556,
              "#1f9e89"
             ],
             [
              0.6666666666666666,
              "#35b779"
             ],
             [
              0.7777777777777778,
              "#6ece58"
             ],
             [
              0.8888888888888888,
              "#b5de2b"
             ],
             [
              1,
              "#fde725"
             ]
            ],
            "type": "histogram2d"
           }
          ],
          "histogram2dcontour": [
           {
            "colorbar": {
             "outlinewidth": 1,
             "tickcolor": "rgb(36,36,36)",
             "ticks": "outside"
            },
            "colorscale": [
             [
              0,
              "#440154"
             ],
             [
              0.1111111111111111,
              "#482878"
             ],
             [
              0.2222222222222222,
              "#3e4989"
             ],
             [
              0.3333333333333333,
              "#31688e"
             ],
             [
              0.4444444444444444,
              "#26828e"
             ],
             [
              0.5555555555555556,
              "#1f9e89"
             ],
             [
              0.6666666666666666,
              "#35b779"
             ],
             [
              0.7777777777777778,
              "#6ece58"
             ],
             [
              0.8888888888888888,
              "#b5de2b"
             ],
             [
              1,
              "#fde725"
             ]
            ],
            "type": "histogram2dcontour"
           }
          ],
          "mesh3d": [
           {
            "colorbar": {
             "outlinewidth": 1,
             "tickcolor": "rgb(36,36,36)",
             "ticks": "outside"
            },
            "type": "mesh3d"
           }
          ],
          "parcoords": [
           {
            "line": {
             "colorbar": {
              "outlinewidth": 1,
              "tickcolor": "rgb(36,36,36)",
              "ticks": "outside"
             }
            },
            "type": "parcoords"
           }
          ],
          "pie": [
           {
            "automargin": true,
            "type": "pie"
           }
          ],
          "scatter": [
           {
            "fillpattern": {
             "fillmode": "overlay",
             "size": 10,
             "solidity": 0.2
            },
            "type": "scatter"
           }
          ],
          "scatter3d": [
           {
            "line": {
             "colorbar": {
              "outlinewidth": 1,
              "tickcolor": "rgb(36,36,36)",
              "ticks": "outside"
             }
            },
            "marker": {
             "colorbar": {
              "outlinewidth": 1,
              "tickcolor": "rgb(36,36,36)",
              "ticks": "outside"
             }
            },
            "type": "scatter3d"
           }
          ],
          "scattercarpet": [
           {
            "marker": {
             "colorbar": {
              "outlinewidth": 1,
              "tickcolor": "rgb(36,36,36)",
              "ticks": "outside"
             }
            },
            "type": "scattercarpet"
           }
          ],
          "scattergeo": [
           {
            "marker": {
             "colorbar": {
              "outlinewidth": 1,
              "tickcolor": "rgb(36,36,36)",
              "ticks": "outside"
             }
            },
            "type": "scattergeo"
           }
          ],
          "scattergl": [
           {
            "marker": {
             "colorbar": {
              "outlinewidth": 1,
              "tickcolor": "rgb(36,36,36)",
              "ticks": "outside"
             }
            },
            "type": "scattergl"
           }
          ],
          "scattermapbox": [
           {
            "marker": {
             "colorbar": {
              "outlinewidth": 1,
              "tickcolor": "rgb(36,36,36)",
              "ticks": "outside"
             }
            },
            "type": "scattermapbox"
           }
          ],
          "scatterpolar": [
           {
            "marker": {
             "colorbar": {
              "outlinewidth": 1,
              "tickcolor": "rgb(36,36,36)",
              "ticks": "outside"
             }
            },
            "type": "scatterpolar"
           }
          ],
          "scatterpolargl": [
           {
            "marker": {
             "colorbar": {
              "outlinewidth": 1,
              "tickcolor": "rgb(36,36,36)",
              "ticks": "outside"
             }
            },
            "type": "scatterpolargl"
           }
          ],
          "scatterternary": [
           {
            "marker": {
             "colorbar": {
              "outlinewidth": 1,
              "tickcolor": "rgb(36,36,36)",
              "ticks": "outside"
             }
            },
            "type": "scatterternary"
           }
          ],
          "surface": [
           {
            "colorbar": {
             "outlinewidth": 1,
             "tickcolor": "rgb(36,36,36)",
             "ticks": "outside"
            },
            "colorscale": [
             [
              0,
              "#440154"
             ],
             [
              0.1111111111111111,
              "#482878"
             ],
             [
              0.2222222222222222,
              "#3e4989"
             ],
             [
              0.3333333333333333,
              "#31688e"
             ],
             [
              0.4444444444444444,
              "#26828e"
             ],
             [
              0.5555555555555556,
              "#1f9e89"
             ],
             [
              0.6666666666666666,
              "#35b779"
             ],
             [
              0.7777777777777778,
              "#6ece58"
             ],
             [
              0.8888888888888888,
              "#b5de2b"
             ],
             [
              1,
              "#fde725"
             ]
            ],
            "type": "surface"
           }
          ],
          "table": [
           {
            "cells": {
             "fill": {
              "color": "rgb(237,237,237)"
             },
             "line": {
              "color": "white"
             }
            },
            "header": {
             "fill": {
              "color": "rgb(217,217,217)"
             },
             "line": {
              "color": "white"
             }
            },
            "type": "table"
           }
          ]
         },
         "layout": {
          "annotationdefaults": {
           "arrowhead": 0,
           "arrowwidth": 1
          },
          "autotypenumbers": "strict",
          "coloraxis": {
           "colorbar": {
            "outlinewidth": 1,
            "tickcolor": "rgb(36,36,36)",
            "ticks": "outside"
           }
          },
          "colorscale": {
           "diverging": [
            [
             0,
             "rgb(103,0,31)"
            ],
            [
             0.1,
             "rgb(178,24,43)"
            ],
            [
             0.2,
             "rgb(214,96,77)"
            ],
            [
             0.3,
             "rgb(244,165,130)"
            ],
            [
             0.4,
             "rgb(253,219,199)"
            ],
            [
             0.5,
             "rgb(247,247,247)"
            ],
            [
             0.6,
             "rgb(209,229,240)"
            ],
            [
             0.7,
             "rgb(146,197,222)"
            ],
            [
             0.8,
             "rgb(67,147,195)"
            ],
            [
             0.9,
             "rgb(33,102,172)"
            ],
            [
             1,
             "rgb(5,48,97)"
            ]
           ],
           "sequential": [
            [
             0,
             "#440154"
            ],
            [
             0.1111111111111111,
             "#482878"
            ],
            [
             0.2222222222222222,
             "#3e4989"
            ],
            [
             0.3333333333333333,
             "#31688e"
            ],
            [
             0.4444444444444444,
             "#26828e"
            ],
            [
             0.5555555555555556,
             "#1f9e89"
            ],
            [
             0.6666666666666666,
             "#35b779"
            ],
            [
             0.7777777777777778,
             "#6ece58"
            ],
            [
             0.8888888888888888,
             "#b5de2b"
            ],
            [
             1,
             "#fde725"
            ]
           ],
           "sequentialminus": [
            [
             0,
             "#440154"
            ],
            [
             0.1111111111111111,
             "#482878"
            ],
            [
             0.2222222222222222,
             "#3e4989"
            ],
            [
             0.3333333333333333,
             "#31688e"
            ],
            [
             0.4444444444444444,
             "#26828e"
            ],
            [
             0.5555555555555556,
             "#1f9e89"
            ],
            [
             0.6666666666666666,
             "#35b779"
            ],
            [
             0.7777777777777778,
             "#6ece58"
            ],
            [
             0.8888888888888888,
             "#b5de2b"
            ],
            [
             1,
             "#fde725"
            ]
           ]
          },
          "colorway": [
           "#1F77B4",
           "#FF7F0E",
           "#2CA02C",
           "#D62728",
           "#9467BD",
           "#8C564B",
           "#E377C2",
           "#7F7F7F",
           "#BCBD22",
           "#17BECF"
          ],
          "font": {
           "color": "rgb(36,36,36)"
          },
          "geo": {
           "bgcolor": "white",
           "lakecolor": "white",
           "landcolor": "white",
           "showlakes": true,
           "showland": true,
           "subunitcolor": "white"
          },
          "hoverlabel": {
           "align": "left"
          },
          "hovermode": "closest",
          "mapbox": {
           "style": "light"
          },
          "paper_bgcolor": "white",
          "plot_bgcolor": "white",
          "polar": {
           "angularaxis": {
            "gridcolor": "rgb(232,232,232)",
            "linecolor": "rgb(36,36,36)",
            "showgrid": false,
            "showline": true,
            "ticks": "outside"
           },
           "bgcolor": "white",
           "radialaxis": {
            "gridcolor": "rgb(232,232,232)",
            "linecolor": "rgb(36,36,36)",
            "showgrid": false,
            "showline": true,
            "ticks": "outside"
           }
          },
          "scene": {
           "xaxis": {
            "backgroundcolor": "white",
            "gridcolor": "rgb(232,232,232)",
            "gridwidth": 2,
            "linecolor": "rgb(36,36,36)",
            "showbackground": true,
            "showgrid": false,
            "showline": true,
            "ticks": "outside",
            "zeroline": false,
            "zerolinecolor": "rgb(36,36,36)"
           },
           "yaxis": {
            "backgroundcolor": "white",
            "gridcolor": "rgb(232,232,232)",
            "gridwidth": 2,
            "linecolor": "rgb(36,36,36)",
            "showbackground": true,
            "showgrid": false,
            "showline": true,
            "ticks": "outside",
            "zeroline": false,
            "zerolinecolor": "rgb(36,36,36)"
           },
           "zaxis": {
            "backgroundcolor": "white",
            "gridcolor": "rgb(232,232,232)",
            "gridwidth": 2,
            "linecolor": "rgb(36,36,36)",
            "showbackground": true,
            "showgrid": false,
            "showline": true,
            "ticks": "outside",
            "zeroline": false,
            "zerolinecolor": "rgb(36,36,36)"
           }
          },
          "shapedefaults": {
           "fillcolor": "black",
           "line": {
            "width": 0
           },
           "opacity": 0.3
          },
          "ternary": {
           "aaxis": {
            "gridcolor": "rgb(232,232,232)",
            "linecolor": "rgb(36,36,36)",
            "showgrid": false,
            "showline": true,
            "ticks": "outside"
           },
           "baxis": {
            "gridcolor": "rgb(232,232,232)",
            "linecolor": "rgb(36,36,36)",
            "showgrid": false,
            "showline": true,
            "ticks": "outside"
           },
           "bgcolor": "white",
           "caxis": {
            "gridcolor": "rgb(232,232,232)",
            "linecolor": "rgb(36,36,36)",
            "showgrid": false,
            "showline": true,
            "ticks": "outside"
           }
          },
          "title": {
           "x": 0.05
          },
          "xaxis": {
           "automargin": true,
           "gridcolor": "rgb(232,232,232)",
           "linecolor": "rgb(36,36,36)",
           "showgrid": false,
           "showline": true,
           "ticks": "outside",
           "title": {
            "standoff": 15
           },
           "zeroline": false,
           "zerolinecolor": "rgb(36,36,36)"
          },
          "yaxis": {
           "automargin": true,
           "gridcolor": "rgb(232,232,232)",
           "linecolor": "rgb(36,36,36)",
           "showgrid": false,
           "showline": true,
           "ticks": "outside",
           "title": {
            "standoff": 15
           },
           "zeroline": false,
           "zerolinecolor": "rgb(36,36,36)"
          }
         }
        },
        "title": {
         "text": "<b>GDP correlation </b><br><sup>& Life expectancy<sup>"
        },
        "xaxis": {
         "anchor": "y",
         "domain": [
          0,
          1
         ],
         "showticklabels": false,
         "tickfont": {
          "size": 12
         },
         "title": {
          "text": ""
         }
        },
        "yaxis": {
         "anchor": "x",
         "domain": [
          0,
          1
         ],
         "tickfont": {
          "size": 12
         },
         "title": {
          "text": ""
         }
        }
       }
      }
     },
     "metadata": {},
     "output_type": "display_data"
    }
   ],
   "source": [
    "conn = get_conn()\n",
    "\n",
    "cursor= conn.cursor()\n",
    "\n",
    "query=\"\"\"\n",
    "select country, round(AVG(`Life expectancy`),1) as AVG_Life_Expectancy, round(AVG(GDP),2) as Avg_GDP\n",
    "from worldlifeexpectancy\n",
    "group by country\n",
    "having Avg_GDP > 0\n",
    "and  AVG_Life_Expectancy > 0\n",
    "order by Avg_GDP asc;\n",
    "\"\"\"\n",
    "\n",
    "cursor.execute(query)\n",
    "data = cursor.fetchall()\n",
    "country = [row[0] for row in data]\n",
    "avg_life_exp = [row[1] for row in data]\n",
    "avg_gdp = [row[2] for row in data]\n",
    "\n",
    "data = pd.DataFrame({'Country': country, 'Average Life Expectancy': avg_life_exp, 'Avg_GDP': avg_gdp})\n",
    "\n",
    "\n",
    "fig = px.scatter(\n",
    "        data, x='Average Life Expectancy', y='Avg_GDP',hover_name='Country',\n",
    "        template=\"simple_white\", color='Average Life Expectancy', color_continuous_scale='Reds',\n",
    "        #labels={'Avg_GDP': 'Average GDP', 'avg_life_exp': 'Average Life Expectancy'},\n",
    "        title=\"<b>GDP correlation </b><br><sup>& Life expectancy<sup>\", custom_data=data[['Country','Average Life Expectancy', 'Avg_GDP' ]])\n",
    "        #hoverformat=\"Country: %{text}<br>Avg GDP: %{x:.2f}<br>Life Exp: %{y:.1f}\"\n",
    "\n",
    "fig.update_traces(hovertemplate=\"<b>Country</b>: %{customdata[0]}<br>\"\n",
    "                 \"<b>Avg Life Exp</b>: %{customdata[1]:.1f} years<br>\"\n",
    "                 \"<b>Avg GDP</b>: %{customdata[2]:.2f}\")\n",
    "fig.update_yaxes(tickfont=dict(size=12),title_text='')\n",
    "fig.update_xaxes(tickfont=dict(size=12),title_text='', showticklabels=False)\n",
    "\n",
    "fig.show()"
   ]
  },
  {
   "cell_type": "markdown",
   "metadata": {},
   "source": [
    "# Countries GDP Count Lower than 1500 GDP"
   ]
  },
  {
   "cell_type": "code",
   "execution_count": 8,
   "metadata": {},
   "outputs": [
    {
     "name": "stdout",
     "output_type": "stream",
     "text": [
      "Connection to MySQL database established successfully!\n"
     ]
    },
    {
     "data": {
      "application/vnd.plotly.v1+json": {
       "config": {
        "plotlyServerURL": "https://plot.ly"
       },
       "data": [
        {
         "alignmentgroup": "True",
         "hovertemplate": "%{x}",
         "legendgroup": "",
         "marker": {
          "color": [
           "indianred",
           "grey",
           "grey",
           "grey"
          ],
          "pattern": {
           "shape": ""
          }
         },
         "name": "",
         "offsetgroup": "",
         "orientation": "v",
         "showlegend": false,
         "text": [
          "1612",
          "1326",
          "74",
          "65"
         ],
         "textposition": "auto",
         "type": "bar",
         "x": [
          "Low_GDP_Count",
          "High_GDP_Count",
          "High_GDP_Life_Exp",
          "Low_GDP_Life_Exp"
         ],
         "xaxis": "x",
         "y": [
          1612,
          1326,
          74.15,
          64.63
         ],
         "yaxis": "y"
        },
        {
         "marker": {
          "color": "indianred"
         },
         "name": "Lowest GDP Count",
         "showlegend": true,
         "type": "bar",
         "x": [
          "Low_GDP_Count"
         ],
         "y": [
          0
         ]
        }
       ],
       "layout": {
        "barmode": "relative",
        "legend": {
         "tracegroupgap": 0
        },
        "template": {
         "data": {
          "bar": [
           {
            "error_x": {
             "color": "rgb(36,36,36)"
            },
            "error_y": {
             "color": "rgb(36,36,36)"
            },
            "marker": {
             "line": {
              "color": "white",
              "width": 0.5
             },
             "pattern": {
              "fillmode": "overlay",
              "size": 10,
              "solidity": 0.2
             }
            },
            "type": "bar"
           }
          ],
          "barpolar": [
           {
            "marker": {
             "line": {
              "color": "white",
              "width": 0.5
             },
             "pattern": {
              "fillmode": "overlay",
              "size": 10,
              "solidity": 0.2
             }
            },
            "type": "barpolar"
           }
          ],
          "carpet": [
           {
            "aaxis": {
             "endlinecolor": "rgb(36,36,36)",
             "gridcolor": "white",
             "linecolor": "white",
             "minorgridcolor": "white",
             "startlinecolor": "rgb(36,36,36)"
            },
            "baxis": {
             "endlinecolor": "rgb(36,36,36)",
             "gridcolor": "white",
             "linecolor": "white",
             "minorgridcolor": "white",
             "startlinecolor": "rgb(36,36,36)"
            },
            "type": "carpet"
           }
          ],
          "choropleth": [
           {
            "colorbar": {
             "outlinewidth": 1,
             "tickcolor": "rgb(36,36,36)",
             "ticks": "outside"
            },
            "type": "choropleth"
           }
          ],
          "contour": [
           {
            "colorbar": {
             "outlinewidth": 1,
             "tickcolor": "rgb(36,36,36)",
             "ticks": "outside"
            },
            "colorscale": [
             [
              0,
              "#440154"
             ],
             [
              0.1111111111111111,
              "#482878"
             ],
             [
              0.2222222222222222,
              "#3e4989"
             ],
             [
              0.3333333333333333,
              "#31688e"
             ],
             [
              0.4444444444444444,
              "#26828e"
             ],
             [
              0.5555555555555556,
              "#1f9e89"
             ],
             [
              0.6666666666666666,
              "#35b779"
             ],
             [
              0.7777777777777778,
              "#6ece58"
             ],
             [
              0.8888888888888888,
              "#b5de2b"
             ],
             [
              1,
              "#fde725"
             ]
            ],
            "type": "contour"
           }
          ],
          "contourcarpet": [
           {
            "colorbar": {
             "outlinewidth": 1,
             "tickcolor": "rgb(36,36,36)",
             "ticks": "outside"
            },
            "type": "contourcarpet"
           }
          ],
          "heatmap": [
           {
            "colorbar": {
             "outlinewidth": 1,
             "tickcolor": "rgb(36,36,36)",
             "ticks": "outside"
            },
            "colorscale": [
             [
              0,
              "#440154"
             ],
             [
              0.1111111111111111,
              "#482878"
             ],
             [
              0.2222222222222222,
              "#3e4989"
             ],
             [
              0.3333333333333333,
              "#31688e"
             ],
             [
              0.4444444444444444,
              "#26828e"
             ],
             [
              0.5555555555555556,
              "#1f9e89"
             ],
             [
              0.6666666666666666,
              "#35b779"
             ],
             [
              0.7777777777777778,
              "#6ece58"
             ],
             [
              0.8888888888888888,
              "#b5de2b"
             ],
             [
              1,
              "#fde725"
             ]
            ],
            "type": "heatmap"
           }
          ],
          "heatmapgl": [
           {
            "colorbar": {
             "outlinewidth": 1,
             "tickcolor": "rgb(36,36,36)",
             "ticks": "outside"
            },
            "colorscale": [
             [
              0,
              "#440154"
             ],
             [
              0.1111111111111111,
              "#482878"
             ],
             [
              0.2222222222222222,
              "#3e4989"
             ],
             [
              0.3333333333333333,
              "#31688e"
             ],
             [
              0.4444444444444444,
              "#26828e"
             ],
             [
              0.5555555555555556,
              "#1f9e89"
             ],
             [
              0.6666666666666666,
              "#35b779"
             ],
             [
              0.7777777777777778,
              "#6ece58"
             ],
             [
              0.8888888888888888,
              "#b5de2b"
             ],
             [
              1,
              "#fde725"
             ]
            ],
            "type": "heatmapgl"
           }
          ],
          "histogram": [
           {
            "marker": {
             "line": {
              "color": "white",
              "width": 0.6
             }
            },
            "type": "histogram"
           }
          ],
          "histogram2d": [
           {
            "colorbar": {
             "outlinewidth": 1,
             "tickcolor": "rgb(36,36,36)",
             "ticks": "outside"
            },
            "colorscale": [
             [
              0,
              "#440154"
             ],
             [
              0.1111111111111111,
              "#482878"
             ],
             [
              0.2222222222222222,
              "#3e4989"
             ],
             [
              0.3333333333333333,
              "#31688e"
             ],
             [
              0.4444444444444444,
              "#26828e"
             ],
             [
              0.5555555555555556,
              "#1f9e89"
             ],
             [
              0.6666666666666666,
              "#35b779"
             ],
             [
              0.7777777777777778,
              "#6ece58"
             ],
             [
              0.8888888888888888,
              "#b5de2b"
             ],
             [
              1,
              "#fde725"
             ]
            ],
            "type": "histogram2d"
           }
          ],
          "histogram2dcontour": [
           {
            "colorbar": {
             "outlinewidth": 1,
             "tickcolor": "rgb(36,36,36)",
             "ticks": "outside"
            },
            "colorscale": [
             [
              0,
              "#440154"
             ],
             [
              0.1111111111111111,
              "#482878"
             ],
             [
              0.2222222222222222,
              "#3e4989"
             ],
             [
              0.3333333333333333,
              "#31688e"
             ],
             [
              0.4444444444444444,
              "#26828e"
             ],
             [
              0.5555555555555556,
              "#1f9e89"
             ],
             [
              0.6666666666666666,
              "#35b779"
             ],
             [
              0.7777777777777778,
              "#6ece58"
             ],
             [
              0.8888888888888888,
              "#b5de2b"
             ],
             [
              1,
              "#fde725"
             ]
            ],
            "type": "histogram2dcontour"
           }
          ],
          "mesh3d": [
           {
            "colorbar": {
             "outlinewidth": 1,
             "tickcolor": "rgb(36,36,36)",
             "ticks": "outside"
            },
            "type": "mesh3d"
           }
          ],
          "parcoords": [
           {
            "line": {
             "colorbar": {
              "outlinewidth": 1,
              "tickcolor": "rgb(36,36,36)",
              "ticks": "outside"
             }
            },
            "type": "parcoords"
           }
          ],
          "pie": [
           {
            "automargin": true,
            "type": "pie"
           }
          ],
          "scatter": [
           {
            "fillpattern": {
             "fillmode": "overlay",
             "size": 10,
             "solidity": 0.2
            },
            "type": "scatter"
           }
          ],
          "scatter3d": [
           {
            "line": {
             "colorbar": {
              "outlinewidth": 1,
              "tickcolor": "rgb(36,36,36)",
              "ticks": "outside"
             }
            },
            "marker": {
             "colorbar": {
              "outlinewidth": 1,
              "tickcolor": "rgb(36,36,36)",
              "ticks": "outside"
             }
            },
            "type": "scatter3d"
           }
          ],
          "scattercarpet": [
           {
            "marker": {
             "colorbar": {
              "outlinewidth": 1,
              "tickcolor": "rgb(36,36,36)",
              "ticks": "outside"
             }
            },
            "type": "scattercarpet"
           }
          ],
          "scattergeo": [
           {
            "marker": {
             "colorbar": {
              "outlinewidth": 1,
              "tickcolor": "rgb(36,36,36)",
              "ticks": "outside"
             }
            },
            "type": "scattergeo"
           }
          ],
          "scattergl": [
           {
            "marker": {
             "colorbar": {
              "outlinewidth": 1,
              "tickcolor": "rgb(36,36,36)",
              "ticks": "outside"
             }
            },
            "type": "scattergl"
           }
          ],
          "scattermapbox": [
           {
            "marker": {
             "colorbar": {
              "outlinewidth": 1,
              "tickcolor": "rgb(36,36,36)",
              "ticks": "outside"
             }
            },
            "type": "scattermapbox"
           }
          ],
          "scatterpolar": [
           {
            "marker": {
             "colorbar": {
              "outlinewidth": 1,
              "tickcolor": "rgb(36,36,36)",
              "ticks": "outside"
             }
            },
            "type": "scatterpolar"
           }
          ],
          "scatterpolargl": [
           {
            "marker": {
             "colorbar": {
              "outlinewidth": 1,
              "tickcolor": "rgb(36,36,36)",
              "ticks": "outside"
             }
            },
            "type": "scatterpolargl"
           }
          ],
          "scatterternary": [
           {
            "marker": {
             "colorbar": {
              "outlinewidth": 1,
              "tickcolor": "rgb(36,36,36)",
              "ticks": "outside"
             }
            },
            "type": "scatterternary"
           }
          ],
          "surface": [
           {
            "colorbar": {
             "outlinewidth": 1,
             "tickcolor": "rgb(36,36,36)",
             "ticks": "outside"
            },
            "colorscale": [
             [
              0,
              "#440154"
             ],
             [
              0.1111111111111111,
              "#482878"
             ],
             [
              0.2222222222222222,
              "#3e4989"
             ],
             [
              0.3333333333333333,
              "#31688e"
             ],
             [
              0.4444444444444444,
              "#26828e"
             ],
             [
              0.5555555555555556,
              "#1f9e89"
             ],
             [
              0.6666666666666666,
              "#35b779"
             ],
             [
              0.7777777777777778,
              "#6ece58"
             ],
             [
              0.8888888888888888,
              "#b5de2b"
             ],
             [
              1,
              "#fde725"
             ]
            ],
            "type": "surface"
           }
          ],
          "table": [
           {
            "cells": {
             "fill": {
              "color": "rgb(237,237,237)"
             },
             "line": {
              "color": "white"
             }
            },
            "header": {
             "fill": {
              "color": "rgb(217,217,217)"
             },
             "line": {
              "color": "white"
             }
            },
            "type": "table"
           }
          ]
         },
         "layout": {
          "annotationdefaults": {
           "arrowhead": 0,
           "arrowwidth": 1
          },
          "autotypenumbers": "strict",
          "coloraxis": {
           "colorbar": {
            "outlinewidth": 1,
            "tickcolor": "rgb(36,36,36)",
            "ticks": "outside"
           }
          },
          "colorscale": {
           "diverging": [
            [
             0,
             "rgb(103,0,31)"
            ],
            [
             0.1,
             "rgb(178,24,43)"
            ],
            [
             0.2,
             "rgb(214,96,77)"
            ],
            [
             0.3,
             "rgb(244,165,130)"
            ],
            [
             0.4,
             "rgb(253,219,199)"
            ],
            [
             0.5,
             "rgb(247,247,247)"
            ],
            [
             0.6,
             "rgb(209,229,240)"
            ],
            [
             0.7,
             "rgb(146,197,222)"
            ],
            [
             0.8,
             "rgb(67,147,195)"
            ],
            [
             0.9,
             "rgb(33,102,172)"
            ],
            [
             1,
             "rgb(5,48,97)"
            ]
           ],
           "sequential": [
            [
             0,
             "#440154"
            ],
            [
             0.1111111111111111,
             "#482878"
            ],
            [
             0.2222222222222222,
             "#3e4989"
            ],
            [
             0.3333333333333333,
             "#31688e"
            ],
            [
             0.4444444444444444,
             "#26828e"
            ],
            [
             0.5555555555555556,
             "#1f9e89"
            ],
            [
             0.6666666666666666,
             "#35b779"
            ],
            [
             0.7777777777777778,
             "#6ece58"
            ],
            [
             0.8888888888888888,
             "#b5de2b"
            ],
            [
             1,
             "#fde725"
            ]
           ],
           "sequentialminus": [
            [
             0,
             "#440154"
            ],
            [
             0.1111111111111111,
             "#482878"
            ],
            [
             0.2222222222222222,
             "#3e4989"
            ],
            [
             0.3333333333333333,
             "#31688e"
            ],
            [
             0.4444444444444444,
             "#26828e"
            ],
            [
             0.5555555555555556,
             "#1f9e89"
            ],
            [
             0.6666666666666666,
             "#35b779"
            ],
            [
             0.7777777777777778,
             "#6ece58"
            ],
            [
             0.8888888888888888,
             "#b5de2b"
            ],
            [
             1,
             "#fde725"
            ]
           ]
          },
          "colorway": [
           "#1F77B4",
           "#FF7F0E",
           "#2CA02C",
           "#D62728",
           "#9467BD",
           "#8C564B",
           "#E377C2",
           "#7F7F7F",
           "#BCBD22",
           "#17BECF"
          ],
          "font": {
           "color": "rgb(36,36,36)"
          },
          "geo": {
           "bgcolor": "white",
           "lakecolor": "white",
           "landcolor": "white",
           "showlakes": true,
           "showland": true,
           "subunitcolor": "white"
          },
          "hoverlabel": {
           "align": "left"
          },
          "hovermode": "closest",
          "mapbox": {
           "style": "light"
          },
          "paper_bgcolor": "white",
          "plot_bgcolor": "white",
          "polar": {
           "angularaxis": {
            "gridcolor": "rgb(232,232,232)",
            "linecolor": "rgb(36,36,36)",
            "showgrid": false,
            "showline": true,
            "ticks": "outside"
           },
           "bgcolor": "white",
           "radialaxis": {
            "gridcolor": "rgb(232,232,232)",
            "linecolor": "rgb(36,36,36)",
            "showgrid": false,
            "showline": true,
            "ticks": "outside"
           }
          },
          "scene": {
           "xaxis": {
            "backgroundcolor": "white",
            "gridcolor": "rgb(232,232,232)",
            "gridwidth": 2,
            "linecolor": "rgb(36,36,36)",
            "showbackground": true,
            "showgrid": false,
            "showline": true,
            "ticks": "outside",
            "zeroline": false,
            "zerolinecolor": "rgb(36,36,36)"
           },
           "yaxis": {
            "backgroundcolor": "white",
            "gridcolor": "rgb(232,232,232)",
            "gridwidth": 2,
            "linecolor": "rgb(36,36,36)",
            "showbackground": true,
            "showgrid": false,
            "showline": true,
            "ticks": "outside",
            "zeroline": false,
            "zerolinecolor": "rgb(36,36,36)"
           },
           "zaxis": {
            "backgroundcolor": "white",
            "gridcolor": "rgb(232,232,232)",
            "gridwidth": 2,
            "linecolor": "rgb(36,36,36)",
            "showbackground": true,
            "showgrid": false,
            "showline": true,
            "ticks": "outside",
            "zeroline": false,
            "zerolinecolor": "rgb(36,36,36)"
           }
          },
          "shapedefaults": {
           "fillcolor": "black",
           "line": {
            "width": 0
           },
           "opacity": 0.3
          },
          "ternary": {
           "aaxis": {
            "gridcolor": "rgb(232,232,232)",
            "linecolor": "rgb(36,36,36)",
            "showgrid": false,
            "showline": true,
            "ticks": "outside"
           },
           "baxis": {
            "gridcolor": "rgb(232,232,232)",
            "linecolor": "rgb(36,36,36)",
            "showgrid": false,
            "showline": true,
            "ticks": "outside"
           },
           "bgcolor": "white",
           "caxis": {
            "gridcolor": "rgb(232,232,232)",
            "linecolor": "rgb(36,36,36)",
            "showgrid": false,
            "showline": true,
            "ticks": "outside"
           }
          },
          "title": {
           "x": 0.05
          },
          "xaxis": {
           "automargin": true,
           "gridcolor": "rgb(232,232,232)",
           "linecolor": "rgb(36,36,36)",
           "showgrid": false,
           "showline": true,
           "ticks": "outside",
           "title": {
            "standoff": 15
           },
           "zeroline": false,
           "zerolinecolor": "rgb(36,36,36)"
          },
          "yaxis": {
           "automargin": true,
           "gridcolor": "rgb(232,232,232)",
           "linecolor": "rgb(36,36,36)",
           "showgrid": false,
           "showline": true,
           "ticks": "outside",
           "title": {
            "standoff": 15
           },
           "zeroline": false,
           "zerolinecolor": "rgb(36,36,36)"
          }
         }
        },
        "title": {
         "text": "<b>Countires GDP Count</b><br><sup>Lower than 1500 GDP</sup>"
        },
        "xaxis": {
         "anchor": "y",
         "domain": [
          0,
          1
         ],
         "showticklabels": false,
         "tickfont": {
          "size": 12
         },
         "title": {
          "text": ""
         }
        },
        "yaxis": {
         "anchor": "x",
         "domain": [
          0,
          1
         ],
         "tickfont": {
          "size": 12
         },
         "title": {
          "text": ""
         }
        }
       }
      }
     },
     "metadata": {},
     "output_type": "display_data"
    }
   ],
   "source": [
    "conn = get_conn()\n",
    "\n",
    "cursor= conn.cursor()\n",
    "\n",
    "query=\"\"\"\n",
    "select\n",
    "SUM(case when GDP >= 1500 then 1 else 0 end) High_GDP_Count,\n",
    "#round out the decimals (too many)\n",
    "round(AVG(case when GDP >= 1500 then `Life expectancy`  else null end),2) AVG_GDP_Life_expectancy,\n",
    "SUM(case when GDP <= 1500 then 1 else 0 end) Low_GDP_Count,\n",
    "#round out the decimals (too many)\n",
    "round(AVG(case when GDP <= 1500 then `Life expectancy`  else null end),2) Lowest_AVG_GDP_Life_expectancy\n",
    "from worldlifeexpectancy;\n",
    "\"\"\"\n",
    "\n",
    "cursor.execute(query)\n",
    "data = cursor.fetchall()\n",
    "\n",
    "# Fetch data agrregate\n",
    "High_GDP_Count = data[0][0]\n",
    "Low_GDP_Count = data[0][2]\n",
    "High_GDP_Life_Exp = data[0][1]\n",
    "Low_GDP_Life_Exp = data[0][3]\n",
    "\n",
    "data = pd.DataFrame({'Category': ['High_GDP_Count', 'Low_GDP_Count', 'High_GDP_Life_Exp', 'Low_GDP_Life_Exp'],\n",
    "'Value':[High_GDP_Count, Low_GDP_Count, High_GDP_Life_Exp, Low_GDP_Life_Exp]})\n",
    "\n",
    "#color_mapping={'High_GDP_Count' : ' Geyser_r ',\n",
    "#               'Low_GDP_Count':'Geyser','High_GDP_Life_Exp':'indianred', 'Low_GDP_Life_Exp':'Geyser_r'\n",
    "        \n",
    "#}\n",
    "data.sort_values('Value', ascending=False, inplace=True)\n",
    "\n",
    "fig = px.bar( \n",
    "             data, x='Category', y='Value', template=\"simple_white\", #integrated template\n",
    "             title='<b>Countires GDP Count</b><br><sup>Lower than 1500 GDP</sup>',\n",
    "             #apply formatted values\n",
    "             text=data['Value'].apply(lambda x: f'{x:.0f}', \n",
    "             ), )\n",
    "             \n",
    "             #title=\"Countires that have a higher GDP than 1500\",\n",
    "             #color=color_mapping)\n",
    "        #hoverformat=\"Country: %{text}<br>Avg GDP: %{x:.2f}<br>Life Exp: %{y:.1f}\"\n",
    "\n",
    "\n",
    "#Remove labels on both axis\n",
    "\n",
    "fig.update_xaxes(tickfont=dict(size=12), title_text='', showticklabels=False )\n",
    "fig.update_yaxes(tickfont=dict(size=12),title_text='')\n",
    "\n",
    "\n",
    "#Highlight the Most important category\n",
    "\n",
    "hightlighted_bar = 'Low_GDP_Count'\n",
    "\n",
    "fig.update_traces(marker_color=['indianred' if x == hightlighted_bar else 'grey' for x in data['Category']],hovertemplate='%{x}')\n",
    "\n",
    "# Add color to only the important metric: Low_GDP_Count\n",
    "fig.add_trace(\n",
    "    go.Bar(x=['Low_GDP_Count'], y=[0], marker=dict(color='indianred'), showlegend=True, name='Lowest GDP Count')\n",
    ")\n",
    "\n",
    "fig.show()"
   ]
  },
  {
   "cell_type": "markdown",
   "metadata": {},
   "source": [
    "# Correlation between \n",
    "# Status and Life expectancy"
   ]
  },
  {
   "cell_type": "code",
   "execution_count": 9,
   "metadata": {},
   "outputs": [
    {
     "name": "stdout",
     "output_type": "stream",
     "text": [
      "Connection to MySQL database established successfully!\n"
     ]
    },
    {
     "data": {
      "application/vnd.plotly.v1+json": {
       "config": {
        "plotlyServerURL": "https://plot.ly"
       },
       "data": [
        {
         "alignmentgroup": "True",
         "customdata": [
          [
           66.8
          ],
          [
           79.1
          ]
         ],
         "hovertemplate": "%{x} - Avg.Life Expectancy: %{customdata[0]:.1f}",
         "legendgroup": "",
         "marker": {
          "color": [
           "indianred",
           "grey"
          ],
          "pattern": {
           "shape": ""
          }
         },
         "name": "",
         "offsetgroup": "",
         "orientation": "v",
         "showlegend": false,
         "text": [
          "161",
          "32"
         ],
         "textposition": "auto",
         "type": "bar",
         "x": [
          "Developing",
          "Developed"
         ],
         "xaxis": "x",
         "y": [
          161,
          32
         ],
         "yaxis": "y"
        },
        {
         "marker": {
          "color": "indianred"
         },
         "name": "Developing Countries",
         "showlegend": true,
         "type": "bar",
         "x": [
          "Developing"
         ],
         "y": [
          0
         ]
        }
       ],
       "layout": {
        "barmode": "relative",
        "legend": {
         "tracegroupgap": 0
        },
        "template": {
         "data": {
          "bar": [
           {
            "error_x": {
             "color": "rgb(36,36,36)"
            },
            "error_y": {
             "color": "rgb(36,36,36)"
            },
            "marker": {
             "line": {
              "color": "white",
              "width": 0.5
             },
             "pattern": {
              "fillmode": "overlay",
              "size": 10,
              "solidity": 0.2
             }
            },
            "type": "bar"
           }
          ],
          "barpolar": [
           {
            "marker": {
             "line": {
              "color": "white",
              "width": 0.5
             },
             "pattern": {
              "fillmode": "overlay",
              "size": 10,
              "solidity": 0.2
             }
            },
            "type": "barpolar"
           }
          ],
          "carpet": [
           {
            "aaxis": {
             "endlinecolor": "rgb(36,36,36)",
             "gridcolor": "white",
             "linecolor": "white",
             "minorgridcolor": "white",
             "startlinecolor": "rgb(36,36,36)"
            },
            "baxis": {
             "endlinecolor": "rgb(36,36,36)",
             "gridcolor": "white",
             "linecolor": "white",
             "minorgridcolor": "white",
             "startlinecolor": "rgb(36,36,36)"
            },
            "type": "carpet"
           }
          ],
          "choropleth": [
           {
            "colorbar": {
             "outlinewidth": 1,
             "tickcolor": "rgb(36,36,36)",
             "ticks": "outside"
            },
            "type": "choropleth"
           }
          ],
          "contour": [
           {
            "colorbar": {
             "outlinewidth": 1,
             "tickcolor": "rgb(36,36,36)",
             "ticks": "outside"
            },
            "colorscale": [
             [
              0,
              "#440154"
             ],
             [
              0.1111111111111111,
              "#482878"
             ],
             [
              0.2222222222222222,
              "#3e4989"
             ],
             [
              0.3333333333333333,
              "#31688e"
             ],
             [
              0.4444444444444444,
              "#26828e"
             ],
             [
              0.5555555555555556,
              "#1f9e89"
             ],
             [
              0.6666666666666666,
              "#35b779"
             ],
             [
              0.7777777777777778,
              "#6ece58"
             ],
             [
              0.8888888888888888,
              "#b5de2b"
             ],
             [
              1,
              "#fde725"
             ]
            ],
            "type": "contour"
           }
          ],
          "contourcarpet": [
           {
            "colorbar": {
             "outlinewidth": 1,
             "tickcolor": "rgb(36,36,36)",
             "ticks": "outside"
            },
            "type": "contourcarpet"
           }
          ],
          "heatmap": [
           {
            "colorbar": {
             "outlinewidth": 1,
             "tickcolor": "rgb(36,36,36)",
             "ticks": "outside"
            },
            "colorscale": [
             [
              0,
              "#440154"
             ],
             [
              0.1111111111111111,
              "#482878"
             ],
             [
              0.2222222222222222,
              "#3e4989"
             ],
             [
              0.3333333333333333,
              "#31688e"
             ],
             [
              0.4444444444444444,
              "#26828e"
             ],
             [
              0.5555555555555556,
              "#1f9e89"
             ],
             [
              0.6666666666666666,
              "#35b779"
             ],
             [
              0.7777777777777778,
              "#6ece58"
             ],
             [
              0.8888888888888888,
              "#b5de2b"
             ],
             [
              1,
              "#fde725"
             ]
            ],
            "type": "heatmap"
           }
          ],
          "heatmapgl": [
           {
            "colorbar": {
             "outlinewidth": 1,
             "tickcolor": "rgb(36,36,36)",
             "ticks": "outside"
            },
            "colorscale": [
             [
              0,
              "#440154"
             ],
             [
              0.1111111111111111,
              "#482878"
             ],
             [
              0.2222222222222222,
              "#3e4989"
             ],
             [
              0.3333333333333333,
              "#31688e"
             ],
             [
              0.4444444444444444,
              "#26828e"
             ],
             [
              0.5555555555555556,
              "#1f9e89"
             ],
             [
              0.6666666666666666,
              "#35b779"
             ],
             [
              0.7777777777777778,
              "#6ece58"
             ],
             [
              0.8888888888888888,
              "#b5de2b"
             ],
             [
              1,
              "#fde725"
             ]
            ],
            "type": "heatmapgl"
           }
          ],
          "histogram": [
           {
            "marker": {
             "line": {
              "color": "white",
              "width": 0.6
             }
            },
            "type": "histogram"
           }
          ],
          "histogram2d": [
           {
            "colorbar": {
             "outlinewidth": 1,
             "tickcolor": "rgb(36,36,36)",
             "ticks": "outside"
            },
            "colorscale": [
             [
              0,
              "#440154"
             ],
             [
              0.1111111111111111,
              "#482878"
             ],
             [
              0.2222222222222222,
              "#3e4989"
             ],
             [
              0.3333333333333333,
              "#31688e"
             ],
             [
              0.4444444444444444,
              "#26828e"
             ],
             [
              0.5555555555555556,
              "#1f9e89"
             ],
             [
              0.6666666666666666,
              "#35b779"
             ],
             [
              0.7777777777777778,
              "#6ece58"
             ],
             [
              0.8888888888888888,
              "#b5de2b"
             ],
             [
              1,
              "#fde725"
             ]
            ],
            "type": "histogram2d"
           }
          ],
          "histogram2dcontour": [
           {
            "colorbar": {
             "outlinewidth": 1,
             "tickcolor": "rgb(36,36,36)",
             "ticks": "outside"
            },
            "colorscale": [
             [
              0,
              "#440154"
             ],
             [
              0.1111111111111111,
              "#482878"
             ],
             [
              0.2222222222222222,
              "#3e4989"
             ],
             [
              0.3333333333333333,
              "#31688e"
             ],
             [
              0.4444444444444444,
              "#26828e"
             ],
             [
              0.5555555555555556,
              "#1f9e89"
             ],
             [
              0.6666666666666666,
              "#35b779"
             ],
             [
              0.7777777777777778,
              "#6ece58"
             ],
             [
              0.8888888888888888,
              "#b5de2b"
             ],
             [
              1,
              "#fde725"
             ]
            ],
            "type": "histogram2dcontour"
           }
          ],
          "mesh3d": [
           {
            "colorbar": {
             "outlinewidth": 1,
             "tickcolor": "rgb(36,36,36)",
             "ticks": "outside"
            },
            "type": "mesh3d"
           }
          ],
          "parcoords": [
           {
            "line": {
             "colorbar": {
              "outlinewidth": 1,
              "tickcolor": "rgb(36,36,36)",
              "ticks": "outside"
             }
            },
            "type": "parcoords"
           }
          ],
          "pie": [
           {
            "automargin": true,
            "type": "pie"
           }
          ],
          "scatter": [
           {
            "fillpattern": {
             "fillmode": "overlay",
             "size": 10,
             "solidity": 0.2
            },
            "type": "scatter"
           }
          ],
          "scatter3d": [
           {
            "line": {
             "colorbar": {
              "outlinewidth": 1,
              "tickcolor": "rgb(36,36,36)",
              "ticks": "outside"
             }
            },
            "marker": {
             "colorbar": {
              "outlinewidth": 1,
              "tickcolor": "rgb(36,36,36)",
              "ticks": "outside"
             }
            },
            "type": "scatter3d"
           }
          ],
          "scattercarpet": [
           {
            "marker": {
             "colorbar": {
              "outlinewidth": 1,
              "tickcolor": "rgb(36,36,36)",
              "ticks": "outside"
             }
            },
            "type": "scattercarpet"
           }
          ],
          "scattergeo": [
           {
            "marker": {
             "colorbar": {
              "outlinewidth": 1,
              "tickcolor": "rgb(36,36,36)",
              "ticks": "outside"
             }
            },
            "type": "scattergeo"
           }
          ],
          "scattergl": [
           {
            "marker": {
             "colorbar": {
              "outlinewidth": 1,
              "tickcolor": "rgb(36,36,36)",
              "ticks": "outside"
             }
            },
            "type": "scattergl"
           }
          ],
          "scattermapbox": [
           {
            "marker": {
             "colorbar": {
              "outlinewidth": 1,
              "tickcolor": "rgb(36,36,36)",
              "ticks": "outside"
             }
            },
            "type": "scattermapbox"
           }
          ],
          "scatterpolar": [
           {
            "marker": {
             "colorbar": {
              "outlinewidth": 1,
              "tickcolor": "rgb(36,36,36)",
              "ticks": "outside"
             }
            },
            "type": "scatterpolar"
           }
          ],
          "scatterpolargl": [
           {
            "marker": {
             "colorbar": {
              "outlinewidth": 1,
              "tickcolor": "rgb(36,36,36)",
              "ticks": "outside"
             }
            },
            "type": "scatterpolargl"
           }
          ],
          "scatterternary": [
           {
            "marker": {
             "colorbar": {
              "outlinewidth": 1,
              "tickcolor": "rgb(36,36,36)",
              "ticks": "outside"
             }
            },
            "type": "scatterternary"
           }
          ],
          "surface": [
           {
            "colorbar": {
             "outlinewidth": 1,
             "tickcolor": "rgb(36,36,36)",
             "ticks": "outside"
            },
            "colorscale": [
             [
              0,
              "#440154"
             ],
             [
              0.1111111111111111,
              "#482878"
             ],
             [
              0.2222222222222222,
              "#3e4989"
             ],
             [
              0.3333333333333333,
              "#31688e"
             ],
             [
              0.4444444444444444,
              "#26828e"
             ],
             [
              0.5555555555555556,
              "#1f9e89"
             ],
             [
              0.6666666666666666,
              "#35b779"
             ],
             [
              0.7777777777777778,
              "#6ece58"
             ],
             [
              0.8888888888888888,
              "#b5de2b"
             ],
             [
              1,
              "#fde725"
             ]
            ],
            "type": "surface"
           }
          ],
          "table": [
           {
            "cells": {
             "fill": {
              "color": "rgb(237,237,237)"
             },
             "line": {
              "color": "white"
             }
            },
            "header": {
             "fill": {
              "color": "rgb(217,217,217)"
             },
             "line": {
              "color": "white"
             }
            },
            "type": "table"
           }
          ]
         },
         "layout": {
          "annotationdefaults": {
           "arrowhead": 0,
           "arrowwidth": 1
          },
          "autotypenumbers": "strict",
          "coloraxis": {
           "colorbar": {
            "outlinewidth": 1,
            "tickcolor": "rgb(36,36,36)",
            "ticks": "outside"
           }
          },
          "colorscale": {
           "diverging": [
            [
             0,
             "rgb(103,0,31)"
            ],
            [
             0.1,
             "rgb(178,24,43)"
            ],
            [
             0.2,
             "rgb(214,96,77)"
            ],
            [
             0.3,
             "rgb(244,165,130)"
            ],
            [
             0.4,
             "rgb(253,219,199)"
            ],
            [
             0.5,
             "rgb(247,247,247)"
            ],
            [
             0.6,
             "rgb(209,229,240)"
            ],
            [
             0.7,
             "rgb(146,197,222)"
            ],
            [
             0.8,
             "rgb(67,147,195)"
            ],
            [
             0.9,
             "rgb(33,102,172)"
            ],
            [
             1,
             "rgb(5,48,97)"
            ]
           ],
           "sequential": [
            [
             0,
             "#440154"
            ],
            [
             0.1111111111111111,
             "#482878"
            ],
            [
             0.2222222222222222,
             "#3e4989"
            ],
            [
             0.3333333333333333,
             "#31688e"
            ],
            [
             0.4444444444444444,
             "#26828e"
            ],
            [
             0.5555555555555556,
             "#1f9e89"
            ],
            [
             0.6666666666666666,
             "#35b779"
            ],
            [
             0.7777777777777778,
             "#6ece58"
            ],
            [
             0.8888888888888888,
             "#b5de2b"
            ],
            [
             1,
             "#fde725"
            ]
           ],
           "sequentialminus": [
            [
             0,
             "#440154"
            ],
            [
             0.1111111111111111,
             "#482878"
            ],
            [
             0.2222222222222222,
             "#3e4989"
            ],
            [
             0.3333333333333333,
             "#31688e"
            ],
            [
             0.4444444444444444,
             "#26828e"
            ],
            [
             0.5555555555555556,
             "#1f9e89"
            ],
            [
             0.6666666666666666,
             "#35b779"
            ],
            [
             0.7777777777777778,
             "#6ece58"
            ],
            [
             0.8888888888888888,
             "#b5de2b"
            ],
            [
             1,
             "#fde725"
            ]
           ]
          },
          "colorway": [
           "#1F77B4",
           "#FF7F0E",
           "#2CA02C",
           "#D62728",
           "#9467BD",
           "#8C564B",
           "#E377C2",
           "#7F7F7F",
           "#BCBD22",
           "#17BECF"
          ],
          "font": {
           "color": "rgb(36,36,36)"
          },
          "geo": {
           "bgcolor": "white",
           "lakecolor": "white",
           "landcolor": "white",
           "showlakes": true,
           "showland": true,
           "subunitcolor": "white"
          },
          "hoverlabel": {
           "align": "left"
          },
          "hovermode": "closest",
          "mapbox": {
           "style": "light"
          },
          "paper_bgcolor": "white",
          "plot_bgcolor": "white",
          "polar": {
           "angularaxis": {
            "gridcolor": "rgb(232,232,232)",
            "linecolor": "rgb(36,36,36)",
            "showgrid": false,
            "showline": true,
            "ticks": "outside"
           },
           "bgcolor": "white",
           "radialaxis": {
            "gridcolor": "rgb(232,232,232)",
            "linecolor": "rgb(36,36,36)",
            "showgrid": false,
            "showline": true,
            "ticks": "outside"
           }
          },
          "scene": {
           "xaxis": {
            "backgroundcolor": "white",
            "gridcolor": "rgb(232,232,232)",
            "gridwidth": 2,
            "linecolor": "rgb(36,36,36)",
            "showbackground": true,
            "showgrid": false,
            "showline": true,
            "ticks": "outside",
            "zeroline": false,
            "zerolinecolor": "rgb(36,36,36)"
           },
           "yaxis": {
            "backgroundcolor": "white",
            "gridcolor": "rgb(232,232,232)",
            "gridwidth": 2,
            "linecolor": "rgb(36,36,36)",
            "showbackground": true,
            "showgrid": false,
            "showline": true,
            "ticks": "outside",
            "zeroline": false,
            "zerolinecolor": "rgb(36,36,36)"
           },
           "zaxis": {
            "backgroundcolor": "white",
            "gridcolor": "rgb(232,232,232)",
            "gridwidth": 2,
            "linecolor": "rgb(36,36,36)",
            "showbackground": true,
            "showgrid": false,
            "showline": true,
            "ticks": "outside",
            "zeroline": false,
            "zerolinecolor": "rgb(36,36,36)"
           }
          },
          "shapedefaults": {
           "fillcolor": "black",
           "line": {
            "width": 0
           },
           "opacity": 0.3
          },
          "ternary": {
           "aaxis": {
            "gridcolor": "rgb(232,232,232)",
            "linecolor": "rgb(36,36,36)",
            "showgrid": false,
            "showline": true,
            "ticks": "outside"
           },
           "baxis": {
            "gridcolor": "rgb(232,232,232)",
            "linecolor": "rgb(36,36,36)",
            "showgrid": false,
            "showline": true,
            "ticks": "outside"
           },
           "bgcolor": "white",
           "caxis": {
            "gridcolor": "rgb(232,232,232)",
            "linecolor": "rgb(36,36,36)",
            "showgrid": false,
            "showline": true,
            "ticks": "outside"
           }
          },
          "title": {
           "x": 0.05
          },
          "xaxis": {
           "automargin": true,
           "gridcolor": "rgb(232,232,232)",
           "linecolor": "rgb(36,36,36)",
           "showgrid": false,
           "showline": true,
           "ticks": "outside",
           "title": {
            "standoff": 15
           },
           "zeroline": false,
           "zerolinecolor": "rgb(36,36,36)"
          },
          "yaxis": {
           "automargin": true,
           "gridcolor": "rgb(232,232,232)",
           "linecolor": "rgb(36,36,36)",
           "showgrid": false,
           "showline": true,
           "ticks": "outside",
           "title": {
            "standoff": 15
           },
           "zeroline": false,
           "zerolinecolor": "rgb(36,36,36)"
          }
         }
        },
        "title": {
         "text": "<b>Developed/Developing status</b><br><sup>& Life expectancy</sup>"
        },
        "xaxis": {
         "anchor": "y",
         "domain": [
          0,
          1
         ],
         "showticklabels": false,
         "tickfont": {
          "size": 12
         },
         "title": {
          "text": ""
         }
        },
        "yaxis": {
         "anchor": "x",
         "domain": [
          0,
          1
         ],
         "tickfont": {
          "size": 12
         },
         "title": {
          "text": ""
         }
        }
       }
      }
     },
     "metadata": {},
     "output_type": "display_data"
    }
   ],
   "source": [
    "conn = get_conn()\n",
    "cursor = conn.cursor()\n",
    "\n",
    "query = \"\"\"\n",
    "select status, count(distinct country), \n",
    "round(avg(`Life expectancy`),1) as AVG_Life_Expectancy\n",
    "from worldlifeexpectancy\n",
    "group by status;\n",
    "\"\"\"\n",
    "\n",
    "cursor.execute(query)\n",
    "data = cursor.fetchall()\n",
    "\n",
    "status = [row[0] for row in data ]\n",
    "country = [row[1] for row in data]\n",
    "Avg_Life_Exp = [row[2] for row in data]\n",
    "\n",
    "\n",
    "data = pd.DataFrame({\n",
    "        'Status': status,\n",
    "        'Country Count': country,\n",
    "        'AVG_Life_Exp': Avg_Life_Exp\n",
    "})\n",
    "\n",
    "data.sort_values('Country Count', ascending=False, inplace=True)\n",
    "\n",
    "fig = px.bar(\n",
    "        data, x='Status', y='Country Count', template=\"simple_white\", \n",
    "        title='<b>Developed/Developing status</b><br><sup>& Life expectancy</sup>',\n",
    "        text=data['Country Count'].apply(lambda x: f'{x:.0f}',),\n",
    "        custom_data=data[['AVG_Life_Exp']]\n",
    "        )\n",
    "\n",
    "hightlighted_bar = 'Developing'\n",
    "\n",
    "fig.update_traces(marker_color=['indianred' if x == hightlighted_bar else 'grey' for x in data['Status']],hovertemplate='%{x} -' + ' Avg.Life Expectancy: %{customdata[0]:.1f}')\n",
    "\n",
    "# Add color to only the important metric: Low_GDP_Count\n",
    "fig.add_trace(\n",
    "    go.Bar(x=['Developing'], y=[0], marker=dict(color='indianred'), showlegend=True, name='Developing Countries')\n",
    ")\n",
    "\n",
    "fig.update_xaxes(tickfont=dict(size=12), title_text='', showticklabels=False )\n",
    "fig.update_yaxes(tickfont=dict(size=12),title_text='')\n",
    "\n",
    "\n",
    "\n",
    "fig.show()"
   ]
  },
  {
   "cell_type": "markdown",
   "metadata": {},
   "source": [
    "# BMI comparison on each countries life expectancy"
   ]
  },
  {
   "cell_type": "code",
   "execution_count": 10,
   "metadata": {},
   "outputs": [
    {
     "name": "stdout",
     "output_type": "stream",
     "text": [
      "Connection to MySQL database established successfully!\n"
     ]
    },
    {
     "data": {
      "application/vnd.plotly.v1+json": {
       "config": {
        "plotlyServerURL": "https://plot.ly"
       },
       "data": [
        {
         "customdata": [
          [
           "Viet Nam",
           11.19,
           74.8
          ],
          [
           "Bangladesh",
           12.88,
           69.2
          ],
          [
           "Lao People's Democratic Republic",
           14.36,
           62.4
          ],
          [
           "Timor-Leste",
           14.55,
           64.7
          ],
          [
           "Rwanda",
           14.75,
           59.1
          ],
          [
           "Madagascar",
           14.77,
           62.7
          ],
          [
           "India",
           14.79,
           65.4
          ],
          [
           "Ethiopia",
           14.8,
           59
          ],
          [
           "Eritrea",
           15.16,
           59.8
          ],
          [
           "Nepal",
           15.18,
           66.4
          ],
          [
           "Burundi",
           15.31,
           56.1
          ],
          [
           "Cambodia",
           15.36,
           64.3
          ],
          [
           "Burkina Faso",
           15.5,
           55.5
          ],
          [
           "Afghanistan",
           15.52,
           55
          ],
          [
           "Uganda",
           15.52,
           55.5
          ],
          [
           "Kenya",
           15.56,
           57.5
          ],
          [
           "Democratic Republic of the Congo",
           15.84,
           55.7
          ],
          [
           "Mozambique",
           16.14,
           53.4
          ],
          [
           "Chad",
           16.32,
           50.4
          ],
          [
           "Niger",
           16.36,
           56.5
          ],
          [
           "Malawi",
           16.78,
           49.9
          ],
          [
           "Central African Republic",
           17.09,
           48.4
          ],
          [
           "Myanmar",
           17.12,
           64.2
          ],
          [
           "Mali",
           17.21,
           54.7
          ],
          [
           "Sri Lanka",
           17.27,
           73.3
          ],
          [
           "United Republic of Tanzania",
           17.32,
           55.7
          ],
          [
           "Zambia",
           17.45,
           53.8
          ],
          [
           "Guinea",
           17.47,
           56
          ],
          [
           "Bhutan",
           17.58,
           66.2
          ],
          [
           "Equatorial Guinea",
           17.86,
           55.3
          ],
          [
           "Togo",
           17.99,
           56.7
          ],
          [
           "Angola",
           18.02,
           49
          ],
          [
           "Comoros",
           18.26,
           61.6
          ],
          [
           "Pakistan",
           18.31,
           64.5
          ],
          [
           "Sierra Leone",
           18.31,
           45.8
          ],
          [
           "Senegal",
           18.44,
           62.6
          ],
          [
           "Somalia",
           18.69,
           53.3
          ],
          [
           "Philippines",
           19.19,
           67.6
          ],
          [
           "Maldives",
           19.29,
           75.2
          ],
          [
           "Guinea-Bissau",
           19.43,
           55.4
          ],
          [
           "Benin",
           19.61,
           57.6
          ],
          [
           "Nigeria",
           19.75,
           51.4
          ],
          [
           "Indonesia",
           19.96,
           67.6
          ],
          [
           "Liberia",
           19.99,
           57.6
          ],
          [
           "Gambia",
           20.3,
           59
          ],
          [
           "Sao Tome and Principe",
           20.85,
           65.1
          ],
          [
           "Congo",
           20.93,
           59.1
          ],
          [
           "Côte d'Ivoire",
           21.32,
           50.4
          ],
          [
           "Thailand",
           21.59,
           73.1
          ],
          [
           "Ghana",
           21.72,
           60.9
          ],
          [
           "China",
           21.81,
           74.2
          ],
          [
           "Mauritania",
           22.48,
           62.7
          ],
          [
           "Republic of Korea",
           23.24,
           80.5
          ],
          [
           "Cameroon",
           23.62,
           54.1
          ],
          [
           "Cabo Verde",
           24.38,
           72.2
          ],
          [
           "Zimbabwe",
           25.14,
           51.2
          ],
          [
           "Lesotho",
           25.24,
           49.1
          ],
          [
           "Swaziland",
           25.5,
           51.5
          ],
          [
           "Japan",
           25.61,
           82.5
          ],
          [
           "Democratic People's Republic of Korea",
           25.62,
           69.4
          ],
          [
           "Singapore",
           25.91,
           81.4
          ],
          [
           "Mauritius",
           25.98,
           72.7
          ],
          [
           "Djibouti",
           26.25,
           60.8
          ],
          [
           "Namibia",
           28.22,
           60.5
          ],
          [
           "Seychelles",
           28.41,
           72.4
          ],
          [
           "Gabon",
           28.82,
           62.4
          ],
          [
           "Malaysia",
           29.17,
           73.7
          ],
          [
           "Brunei Darussalam",
           29.72,
           76.5
          ],
          [
           "Botswana",
           32.24,
           56.2
          ],
          [
           "Tajikistan",
           33.11,
           66.6
          ],
          [
           "Yemen",
           33.49,
           64.4
          ],
          [
           "Uzbekistan",
           34.81,
           68.1
          ],
          [
           "Kyrgyzstan",
           35.11,
           68.7
          ],
          [
           "Guyana",
           36.38,
           65.7
          ],
          [
           "Belize",
           37.67,
           69.4
          ],
          [
           "Trinidad and Tobago",
           37.73,
           71
          ],
          [
           "Turkmenistan",
           38.12,
           64.7
          ],
          [
           "South Africa",
           38.15,
           57.6
          ],
          [
           "Antigua and Barbuda",
           38.43,
           75.1
          ],
          [
           "Solomon Islands",
           39.17,
           67.7
          ],
          [
           "Haiti",
           39.28,
           59.9
          ],
          [
           "Paraguay",
           39.52,
           73.7
          ],
          [
           "Saint Lucia",
           39.59,
           73.6
          ],
          [
           "Honduras",
           39.74,
           73
          ],
          [
           "Mongolia",
           39.79,
           65.9
          ],
          [
           "Grenada",
           40.21,
           73.1
          ],
          [
           "Guatemala",
           40.44,
           71.7
          ],
          [
           "Papua New Guinea",
           40.79,
           61.7
          ],
          [
           "Saint Vincent and the Grenadines",
           41.99,
           73.6
          ],
          [
           "Nicaragua",
           42.68,
           73.4
          ],
          [
           "Ecuador",
           43.31,
           74.7
          ],
          [
           "Portugal",
           43.63,
           79.5
          ],
          [
           "Azerbaijan",
           43.84,
           70.7
          ],
          [
           "Republic of Moldova",
           43.91,
           69.9
          ],
          [
           "Vanuatu",
           44.26,
           71.4
          ],
          [
           "Armenia",
           44.71,
           73.4
          ],
          [
           "Oman",
           44.78,
           74.8
          ],
          [
           "Bolivia (Plurinational State of)",
           44.82,
           67.9
          ],
          [
           "Peru",
           44.87,
           73.6
          ],
          [
           "Kazakhstan",
           45.16,
           66.9
          ],
          [
           "El Salvador",
           45.32,
           71.7
          ],
          [
           "Jamaica",
           45.42,
           74.3
          ],
          [
           "Barbados",
           45.97,
           74.4
          ],
          [
           "Costa Rica",
           46.72,
           78.6
          ],
          [
           "Brazil",
           47.06,
           73.7
          ],
          [
           "Syrian Arab Republic",
           47.31,
           70.8
          ],
          [
           "Georgia",
           47.74,
           73.4
          ],
          [
           "Luxembourg",
           47.82,
           80.8
          ],
          [
           "Dominican Republic",
           48.14,
           72.4
          ],
          [
           "Tunisia",
           48.26,
           74.4
          ],
          [
           "Austria",
           48.29,
           81.4
          ],
          [
           "Iraq",
           48.59,
           70.2
          ],
          [
           "Morocco",
           48.62,
           72.1
          ],
          [
           "Iran (Islamic Republic of)",
           48.63,
           73.7
          ],
          [
           "Algeria",
           48.74,
           73.6
          ],
          [
           "Bosnia and Herzegovina",
           48.96,
           76
          ],
          [
           "Albania",
           49.07,
           70.7
          ],
          [
           "Lithuania",
           49.23,
           72.9
          ],
          [
           "Egypt",
           49.26,
           71.6
          ],
          [
           "Panama",
           49.31,
           76.5
          ],
          [
           "Cuba",
           49.46,
           78
          ],
          [
           "Colombia",
           49.54,
           73.3
          ],
          [
           "Suriname",
           50.16,
           70
          ],
          [
           "Montenegro",
           50.49,
           74.5
          ],
          [
           "Fiji",
           50.56,
           68.7
          ],
          [
           "Norway",
           50.81,
           81.8
          ],
          [
           "Belgium",
           50.89,
           80.2
          ],
          [
           "Ukraine",
           50.89,
           69.6
          ],
          [
           "Iceland",
           51.08,
           82.3
          ],
          [
           "Latvia",
           51.31,
           73.7
          ],
          [
           "Mexico",
           51.42,
           75.7
          ],
          [
           "Switzerland",
           51.44,
           82.1
          ],
          [
           "Bahrain",
           51.66,
           75.7
          ],
          [
           "Slovakia",
           51.82,
           74.8
          ],
          [
           "France",
           51.98,
           82.2
          ],
          [
           "Germany",
           51.99,
           80.7
          ],
          [
           "Serbia",
           52.14,
           74
          ],
          [
           "Slovenia",
           52.2,
           79.9
          ],
          [
           "Romania",
           52.25,
           74.1
          ],
          [
           "Finland",
           52.3,
           80.2
          ],
          [
           "Croatia",
           52.36,
           76.1
          ],
          [
           "Bahamas",
           52.88,
           74.3
          ],
          [
           "The former Yugoslav republic of Macedonia",
           52.91,
           74.1
          ],
          [
           "Uruguay",
           52.92,
           76.1
          ],
          [
           "Jordan",
           53,
           73
          ],
          [
           "Cyprus",
           53.16,
           79.9
          ],
          [
           "Russian Federation",
           53.32,
           68
          ],
          [
           "Ireland",
           53.69,
           80.1
          ],
          [
           "Poland",
           53.73,
           75.6
          ],
          [
           "United Arab Emirates",
           53.81,
           75.7
          ],
          [
           "Netherlands",
           53.97,
           81.2
          ],
          [
           "Venezuela (Bolivarian Republic of)",
           54.49,
           73.4
          ],
          [
           "Bulgaria",
           54.5,
           72.8
          ],
          [
           "Belarus",
           54.74,
           69.9
          ],
          [
           "Libya",
           54.84,
           73
          ],
          [
           "Argentina",
           54.98,
           75.2
          ],
          [
           "Israel",
           54.99,
           81.3
          ],
          [
           "Saudi Arabia",
           55.31,
           73.5
          ],
          [
           "Lebanon",
           55.34,
           74.2
          ],
          [
           "United Kingdom of Great Britain and Northern Ireland",
           55.39,
           80.6
          ],
          [
           "Chile",
           55.59,
           79.6
          ],
          [
           "Czechia",
           55.71,
           76.8
          ],
          [
           "Denmark",
           55.82,
           79.5
          ],
          [
           "Australia",
           55.86,
           81.7
          ],
          [
           "Canada",
           55.86,
           81.7
          ],
          [
           "Italy",
           56.15,
           82.1
          ],
          [
           "Sweden",
           56.25,
           82.5
          ],
          [
           "Turkey",
           56.41,
           73.9
          ],
          [
           "New Zealand",
           56.63,
           81.3
          ],
          [
           "Estonia",
           56.68,
           75.2
          ],
          [
           "Hungary",
           56.93,
           73.8
          ],
          [
           "United States of America",
           58.45,
           78
          ],
          [
           "Spain",
           58.67,
           82.1
          ],
          [
           "Greece",
           58.68,
           80.8
          ],
          [
           "Kuwait",
           59.61,
           73.9
          ],
          [
           "Samoa",
           62.91,
           73.4
          ],
          [
           "Tonga",
           62.94,
           72.6
          ],
          [
           "Micronesia (Federated States of)",
           65.15,
           68.2
          ],
          [
           "Qatar",
           65.65,
           77
          ],
          [
           "Malta",
           66.18,
           80.3
          ],
          [
           "Kiribati",
           69.43,
           65.1
          ]
         ],
         "hovertemplate": "<b>Country</b>: %{customdata[0]}<br><b>Avg Life Exp</b>: %{customdata[1]:.1f} years<br><b>Avg BMI</b>: %{customdata[2]:.2f}",
         "legendgroup": "",
         "marker": {
          "color": [
           11.19,
           12.88,
           14.36,
           14.55,
           14.75,
           14.77,
           14.79,
           14.8,
           15.16,
           15.18,
           15.31,
           15.36,
           15.5,
           15.52,
           15.52,
           15.56,
           15.84,
           16.14,
           16.32,
           16.36,
           16.78,
           17.09,
           17.12,
           17.21,
           17.27,
           17.32,
           17.45,
           17.47,
           17.58,
           17.86,
           17.99,
           18.02,
           18.26,
           18.31,
           18.31,
           18.44,
           18.69,
           19.19,
           19.29,
           19.43,
           19.61,
           19.75,
           19.96,
           19.99,
           20.3,
           20.85,
           20.93,
           21.32,
           21.59,
           21.72,
           21.81,
           22.48,
           23.24,
           23.62,
           24.38,
           25.14,
           25.24,
           25.5,
           25.61,
           25.62,
           25.91,
           25.98,
           26.25,
           28.22,
           28.41,
           28.82,
           29.17,
           29.72,
           32.24,
           33.11,
           33.49,
           34.81,
           35.11,
           36.38,
           37.67,
           37.73,
           38.12,
           38.15,
           38.43,
           39.17,
           39.28,
           39.52,
           39.59,
           39.74,
           39.79,
           40.21,
           40.44,
           40.79,
           41.99,
           42.68,
           43.31,
           43.63,
           43.84,
           43.91,
           44.26,
           44.71,
           44.78,
           44.82,
           44.87,
           45.16,
           45.32,
           45.42,
           45.97,
           46.72,
           47.06,
           47.31,
           47.74,
           47.82,
           48.14,
           48.26,
           48.29,
           48.59,
           48.62,
           48.63,
           48.74,
           48.96,
           49.07,
           49.23,
           49.26,
           49.31,
           49.46,
           49.54,
           50.16,
           50.49,
           50.56,
           50.81,
           50.89,
           50.89,
           51.08,
           51.31,
           51.42,
           51.44,
           51.66,
           51.82,
           51.98,
           51.99,
           52.14,
           52.2,
           52.25,
           52.3,
           52.36,
           52.88,
           52.91,
           52.92,
           53,
           53.16,
           53.32,
           53.69,
           53.73,
           53.81,
           53.97,
           54.49,
           54.5,
           54.74,
           54.84,
           54.98,
           54.99,
           55.31,
           55.34,
           55.39,
           55.59,
           55.71,
           55.82,
           55.86,
           55.86,
           56.15,
           56.25,
           56.41,
           56.63,
           56.68,
           56.93,
           58.45,
           58.67,
           58.68,
           59.61,
           62.91,
           62.94,
           65.15,
           65.65,
           66.18,
           69.43
          ],
          "coloraxis": "coloraxis",
          "symbol": "circle"
         },
         "mode": "markers",
         "name": "",
         "orientation": "v",
         "showlegend": false,
         "type": "scatter",
         "x": [
          74.8,
          69.2,
          62.4,
          64.7,
          59.1,
          62.7,
          65.4,
          59,
          59.8,
          66.4,
          56.1,
          64.3,
          55.5,
          55,
          55.5,
          57.5,
          55.7,
          53.4,
          50.4,
          56.5,
          49.9,
          48.4,
          64.2,
          54.7,
          73.3,
          55.7,
          53.8,
          56,
          66.2,
          55.3,
          56.7,
          49,
          61.6,
          64.5,
          45.8,
          62.6,
          53.3,
          67.6,
          75.2,
          55.4,
          57.6,
          51.4,
          67.6,
          57.6,
          59,
          65.1,
          59.1,
          50.4,
          73.1,
          60.9,
          74.2,
          62.7,
          80.5,
          54.1,
          72.2,
          51.2,
          49.1,
          51.5,
          82.5,
          69.4,
          81.4,
          72.7,
          60.8,
          60.5,
          72.4,
          62.4,
          73.7,
          76.5,
          56.2,
          66.6,
          64.4,
          68.1,
          68.7,
          65.7,
          69.4,
          71,
          64.7,
          57.6,
          75.1,
          67.7,
          59.9,
          73.7,
          73.6,
          73,
          65.9,
          73.1,
          71.7,
          61.7,
          73.6,
          73.4,
          74.7,
          79.5,
          70.7,
          69.9,
          71.4,
          73.4,
          74.8,
          67.9,
          73.6,
          66.9,
          71.7,
          74.3,
          74.4,
          78.6,
          73.7,
          70.8,
          73.4,
          80.8,
          72.4,
          74.4,
          81.4,
          70.2,
          72.1,
          73.7,
          73.6,
          76,
          70.7,
          72.9,
          71.6,
          76.5,
          78,
          73.3,
          70,
          74.5,
          68.7,
          81.8,
          80.2,
          69.6,
          82.3,
          73.7,
          75.7,
          82.1,
          75.7,
          74.8,
          82.2,
          80.7,
          74,
          79.9,
          74.1,
          80.2,
          76.1,
          74.3,
          74.1,
          76.1,
          73,
          79.9,
          68,
          80.1,
          75.6,
          75.7,
          81.2,
          73.4,
          72.8,
          69.9,
          73,
          75.2,
          81.3,
          73.5,
          74.2,
          80.6,
          79.6,
          76.8,
          79.5,
          81.7,
          81.7,
          82.1,
          82.5,
          73.9,
          81.3,
          75.2,
          73.8,
          78,
          82.1,
          80.8,
          73.9,
          73.4,
          72.6,
          68.2,
          77,
          80.3,
          65.1
         ],
         "xaxis": "x",
         "y": [
          11.19,
          12.88,
          14.36,
          14.55,
          14.75,
          14.77,
          14.79,
          14.8,
          15.16,
          15.18,
          15.31,
          15.36,
          15.5,
          15.52,
          15.52,
          15.56,
          15.84,
          16.14,
          16.32,
          16.36,
          16.78,
          17.09,
          17.12,
          17.21,
          17.27,
          17.32,
          17.45,
          17.47,
          17.58,
          17.86,
          17.99,
          18.02,
          18.26,
          18.31,
          18.31,
          18.44,
          18.69,
          19.19,
          19.29,
          19.43,
          19.61,
          19.75,
          19.96,
          19.99,
          20.3,
          20.85,
          20.93,
          21.32,
          21.59,
          21.72,
          21.81,
          22.48,
          23.24,
          23.62,
          24.38,
          25.14,
          25.24,
          25.5,
          25.61,
          25.62,
          25.91,
          25.98,
          26.25,
          28.22,
          28.41,
          28.82,
          29.17,
          29.72,
          32.24,
          33.11,
          33.49,
          34.81,
          35.11,
          36.38,
          37.67,
          37.73,
          38.12,
          38.15,
          38.43,
          39.17,
          39.28,
          39.52,
          39.59,
          39.74,
          39.79,
          40.21,
          40.44,
          40.79,
          41.99,
          42.68,
          43.31,
          43.63,
          43.84,
          43.91,
          44.26,
          44.71,
          44.78,
          44.82,
          44.87,
          45.16,
          45.32,
          45.42,
          45.97,
          46.72,
          47.06,
          47.31,
          47.74,
          47.82,
          48.14,
          48.26,
          48.29,
          48.59,
          48.62,
          48.63,
          48.74,
          48.96,
          49.07,
          49.23,
          49.26,
          49.31,
          49.46,
          49.54,
          50.16,
          50.49,
          50.56,
          50.81,
          50.89,
          50.89,
          51.08,
          51.31,
          51.42,
          51.44,
          51.66,
          51.82,
          51.98,
          51.99,
          52.14,
          52.2,
          52.25,
          52.3,
          52.36,
          52.88,
          52.91,
          52.92,
          53,
          53.16,
          53.32,
          53.69,
          53.73,
          53.81,
          53.97,
          54.49,
          54.5,
          54.74,
          54.84,
          54.98,
          54.99,
          55.31,
          55.34,
          55.39,
          55.59,
          55.71,
          55.82,
          55.86,
          55.86,
          56.15,
          56.25,
          56.41,
          56.63,
          56.68,
          56.93,
          58.45,
          58.67,
          58.68,
          59.61,
          62.91,
          62.94,
          65.15,
          65.65,
          66.18,
          69.43
         ],
         "yaxis": "y"
        }
       ],
       "layout": {
        "coloraxis": {
         "colorbar": {
          "title": {
           "text": "Avg_BMI"
          }
         },
         "colorscale": [
          [
           0,
           "rgb(255,245,240)"
          ],
          [
           0.125,
           "rgb(254,224,210)"
          ],
          [
           0.25,
           "rgb(252,187,161)"
          ],
          [
           0.375,
           "rgb(252,146,114)"
          ],
          [
           0.5,
           "rgb(251,106,74)"
          ],
          [
           0.625,
           "rgb(239,59,44)"
          ],
          [
           0.75,
           "rgb(203,24,29)"
          ],
          [
           0.875,
           "rgb(165,15,21)"
          ],
          [
           1,
           "rgb(103,0,13)"
          ]
         ]
        },
        "legend": {
         "tracegroupgap": 0
        },
        "template": {
         "data": {
          "bar": [
           {
            "error_x": {
             "color": "rgb(36,36,36)"
            },
            "error_y": {
             "color": "rgb(36,36,36)"
            },
            "marker": {
             "line": {
              "color": "white",
              "width": 0.5
             },
             "pattern": {
              "fillmode": "overlay",
              "size": 10,
              "solidity": 0.2
             }
            },
            "type": "bar"
           }
          ],
          "barpolar": [
           {
            "marker": {
             "line": {
              "color": "white",
              "width": 0.5
             },
             "pattern": {
              "fillmode": "overlay",
              "size": 10,
              "solidity": 0.2
             }
            },
            "type": "barpolar"
           }
          ],
          "carpet": [
           {
            "aaxis": {
             "endlinecolor": "rgb(36,36,36)",
             "gridcolor": "white",
             "linecolor": "white",
             "minorgridcolor": "white",
             "startlinecolor": "rgb(36,36,36)"
            },
            "baxis": {
             "endlinecolor": "rgb(36,36,36)",
             "gridcolor": "white",
             "linecolor": "white",
             "minorgridcolor": "white",
             "startlinecolor": "rgb(36,36,36)"
            },
            "type": "carpet"
           }
          ],
          "choropleth": [
           {
            "colorbar": {
             "outlinewidth": 1,
             "tickcolor": "rgb(36,36,36)",
             "ticks": "outside"
            },
            "type": "choropleth"
           }
          ],
          "contour": [
           {
            "colorbar": {
             "outlinewidth": 1,
             "tickcolor": "rgb(36,36,36)",
             "ticks": "outside"
            },
            "colorscale": [
             [
              0,
              "#440154"
             ],
             [
              0.1111111111111111,
              "#482878"
             ],
             [
              0.2222222222222222,
              "#3e4989"
             ],
             [
              0.3333333333333333,
              "#31688e"
             ],
             [
              0.4444444444444444,
              "#26828e"
             ],
             [
              0.5555555555555556,
              "#1f9e89"
             ],
             [
              0.6666666666666666,
              "#35b779"
             ],
             [
              0.7777777777777778,
              "#6ece58"
             ],
             [
              0.8888888888888888,
              "#b5de2b"
             ],
             [
              1,
              "#fde725"
             ]
            ],
            "type": "contour"
           }
          ],
          "contourcarpet": [
           {
            "colorbar": {
             "outlinewidth": 1,
             "tickcolor": "rgb(36,36,36)",
             "ticks": "outside"
            },
            "type": "contourcarpet"
           }
          ],
          "heatmap": [
           {
            "colorbar": {
             "outlinewidth": 1,
             "tickcolor": "rgb(36,36,36)",
             "ticks": "outside"
            },
            "colorscale": [
             [
              0,
              "#440154"
             ],
             [
              0.1111111111111111,
              "#482878"
             ],
             [
              0.2222222222222222,
              "#3e4989"
             ],
             [
              0.3333333333333333,
              "#31688e"
             ],
             [
              0.4444444444444444,
              "#26828e"
             ],
             [
              0.5555555555555556,
              "#1f9e89"
             ],
             [
              0.6666666666666666,
              "#35b779"
             ],
             [
              0.7777777777777778,
              "#6ece58"
             ],
             [
              0.8888888888888888,
              "#b5de2b"
             ],
             [
              1,
              "#fde725"
             ]
            ],
            "type": "heatmap"
           }
          ],
          "heatmapgl": [
           {
            "colorbar": {
             "outlinewidth": 1,
             "tickcolor": "rgb(36,36,36)",
             "ticks": "outside"
            },
            "colorscale": [
             [
              0,
              "#440154"
             ],
             [
              0.1111111111111111,
              "#482878"
             ],
             [
              0.2222222222222222,
              "#3e4989"
             ],
             [
              0.3333333333333333,
              "#31688e"
             ],
             [
              0.4444444444444444,
              "#26828e"
             ],
             [
              0.5555555555555556,
              "#1f9e89"
             ],
             [
              0.6666666666666666,
              "#35b779"
             ],
             [
              0.7777777777777778,
              "#6ece58"
             ],
             [
              0.8888888888888888,
              "#b5de2b"
             ],
             [
              1,
              "#fde725"
             ]
            ],
            "type": "heatmapgl"
           }
          ],
          "histogram": [
           {
            "marker": {
             "line": {
              "color": "white",
              "width": 0.6
             }
            },
            "type": "histogram"
           }
          ],
          "histogram2d": [
           {
            "colorbar": {
             "outlinewidth": 1,
             "tickcolor": "rgb(36,36,36)",
             "ticks": "outside"
            },
            "colorscale": [
             [
              0,
              "#440154"
             ],
             [
              0.1111111111111111,
              "#482878"
             ],
             [
              0.2222222222222222,
              "#3e4989"
             ],
             [
              0.3333333333333333,
              "#31688e"
             ],
             [
              0.4444444444444444,
              "#26828e"
             ],
             [
              0.5555555555555556,
              "#1f9e89"
             ],
             [
              0.6666666666666666,
              "#35b779"
             ],
             [
              0.7777777777777778,
              "#6ece58"
             ],
             [
              0.8888888888888888,
              "#b5de2b"
             ],
             [
              1,
              "#fde725"
             ]
            ],
            "type": "histogram2d"
           }
          ],
          "histogram2dcontour": [
           {
            "colorbar": {
             "outlinewidth": 1,
             "tickcolor": "rgb(36,36,36)",
             "ticks": "outside"
            },
            "colorscale": [
             [
              0,
              "#440154"
             ],
             [
              0.1111111111111111,
              "#482878"
             ],
             [
              0.2222222222222222,
              "#3e4989"
             ],
             [
              0.3333333333333333,
              "#31688e"
             ],
             [
              0.4444444444444444,
              "#26828e"
             ],
             [
              0.5555555555555556,
              "#1f9e89"
             ],
             [
              0.6666666666666666,
              "#35b779"
             ],
             [
              0.7777777777777778,
              "#6ece58"
             ],
             [
              0.8888888888888888,
              "#b5de2b"
             ],
             [
              1,
              "#fde725"
             ]
            ],
            "type": "histogram2dcontour"
           }
          ],
          "mesh3d": [
           {
            "colorbar": {
             "outlinewidth": 1,
             "tickcolor": "rgb(36,36,36)",
             "ticks": "outside"
            },
            "type": "mesh3d"
           }
          ],
          "parcoords": [
           {
            "line": {
             "colorbar": {
              "outlinewidth": 1,
              "tickcolor": "rgb(36,36,36)",
              "ticks": "outside"
             }
            },
            "type": "parcoords"
           }
          ],
          "pie": [
           {
            "automargin": true,
            "type": "pie"
           }
          ],
          "scatter": [
           {
            "fillpattern": {
             "fillmode": "overlay",
             "size": 10,
             "solidity": 0.2
            },
            "type": "scatter"
           }
          ],
          "scatter3d": [
           {
            "line": {
             "colorbar": {
              "outlinewidth": 1,
              "tickcolor": "rgb(36,36,36)",
              "ticks": "outside"
             }
            },
            "marker": {
             "colorbar": {
              "outlinewidth": 1,
              "tickcolor": "rgb(36,36,36)",
              "ticks": "outside"
             }
            },
            "type": "scatter3d"
           }
          ],
          "scattercarpet": [
           {
            "marker": {
             "colorbar": {
              "outlinewidth": 1,
              "tickcolor": "rgb(36,36,36)",
              "ticks": "outside"
             }
            },
            "type": "scattercarpet"
           }
          ],
          "scattergeo": [
           {
            "marker": {
             "colorbar": {
              "outlinewidth": 1,
              "tickcolor": "rgb(36,36,36)",
              "ticks": "outside"
             }
            },
            "type": "scattergeo"
           }
          ],
          "scattergl": [
           {
            "marker": {
             "colorbar": {
              "outlinewidth": 1,
              "tickcolor": "rgb(36,36,36)",
              "ticks": "outside"
             }
            },
            "type": "scattergl"
           }
          ],
          "scattermapbox": [
           {
            "marker": {
             "colorbar": {
              "outlinewidth": 1,
              "tickcolor": "rgb(36,36,36)",
              "ticks": "outside"
             }
            },
            "type": "scattermapbox"
           }
          ],
          "scatterpolar": [
           {
            "marker": {
             "colorbar": {
              "outlinewidth": 1,
              "tickcolor": "rgb(36,36,36)",
              "ticks": "outside"
             }
            },
            "type": "scatterpolar"
           }
          ],
          "scatterpolargl": [
           {
            "marker": {
             "colorbar": {
              "outlinewidth": 1,
              "tickcolor": "rgb(36,36,36)",
              "ticks": "outside"
             }
            },
            "type": "scatterpolargl"
           }
          ],
          "scatterternary": [
           {
            "marker": {
             "colorbar": {
              "outlinewidth": 1,
              "tickcolor": "rgb(36,36,36)",
              "ticks": "outside"
             }
            },
            "type": "scatterternary"
           }
          ],
          "surface": [
           {
            "colorbar": {
             "outlinewidth": 1,
             "tickcolor": "rgb(36,36,36)",
             "ticks": "outside"
            },
            "colorscale": [
             [
              0,
              "#440154"
             ],
             [
              0.1111111111111111,
              "#482878"
             ],
             [
              0.2222222222222222,
              "#3e4989"
             ],
             [
              0.3333333333333333,
              "#31688e"
             ],
             [
              0.4444444444444444,
              "#26828e"
             ],
             [
              0.5555555555555556,
              "#1f9e89"
             ],
             [
              0.6666666666666666,
              "#35b779"
             ],
             [
              0.7777777777777778,
              "#6ece58"
             ],
             [
              0.8888888888888888,
              "#b5de2b"
             ],
             [
              1,
              "#fde725"
             ]
            ],
            "type": "surface"
           }
          ],
          "table": [
           {
            "cells": {
             "fill": {
              "color": "rgb(237,237,237)"
             },
             "line": {
              "color": "white"
             }
            },
            "header": {
             "fill": {
              "color": "rgb(217,217,217)"
             },
             "line": {
              "color": "white"
             }
            },
            "type": "table"
           }
          ]
         },
         "layout": {
          "annotationdefaults": {
           "arrowhead": 0,
           "arrowwidth": 1
          },
          "autotypenumbers": "strict",
          "coloraxis": {
           "colorbar": {
            "outlinewidth": 1,
            "tickcolor": "rgb(36,36,36)",
            "ticks": "outside"
           }
          },
          "colorscale": {
           "diverging": [
            [
             0,
             "rgb(103,0,31)"
            ],
            [
             0.1,
             "rgb(178,24,43)"
            ],
            [
             0.2,
             "rgb(214,96,77)"
            ],
            [
             0.3,
             "rgb(244,165,130)"
            ],
            [
             0.4,
             "rgb(253,219,199)"
            ],
            [
             0.5,
             "rgb(247,247,247)"
            ],
            [
             0.6,
             "rgb(209,229,240)"
            ],
            [
             0.7,
             "rgb(146,197,222)"
            ],
            [
             0.8,
             "rgb(67,147,195)"
            ],
            [
             0.9,
             "rgb(33,102,172)"
            ],
            [
             1,
             "rgb(5,48,97)"
            ]
           ],
           "sequential": [
            [
             0,
             "#440154"
            ],
            [
             0.1111111111111111,
             "#482878"
            ],
            [
             0.2222222222222222,
             "#3e4989"
            ],
            [
             0.3333333333333333,
             "#31688e"
            ],
            [
             0.4444444444444444,
             "#26828e"
            ],
            [
             0.5555555555555556,
             "#1f9e89"
            ],
            [
             0.6666666666666666,
             "#35b779"
            ],
            [
             0.7777777777777778,
             "#6ece58"
            ],
            [
             0.8888888888888888,
             "#b5de2b"
            ],
            [
             1,
             "#fde725"
            ]
           ],
           "sequentialminus": [
            [
             0,
             "#440154"
            ],
            [
             0.1111111111111111,
             "#482878"
            ],
            [
             0.2222222222222222,
             "#3e4989"
            ],
            [
             0.3333333333333333,
             "#31688e"
            ],
            [
             0.4444444444444444,
             "#26828e"
            ],
            [
             0.5555555555555556,
             "#1f9e89"
            ],
            [
             0.6666666666666666,
             "#35b779"
            ],
            [
             0.7777777777777778,
             "#6ece58"
            ],
            [
             0.8888888888888888,
             "#b5de2b"
            ],
            [
             1,
             "#fde725"
            ]
           ]
          },
          "colorway": [
           "#1F77B4",
           "#FF7F0E",
           "#2CA02C",
           "#D62728",
           "#9467BD",
           "#8C564B",
           "#E377C2",
           "#7F7F7F",
           "#BCBD22",
           "#17BECF"
          ],
          "font": {
           "color": "rgb(36,36,36)"
          },
          "geo": {
           "bgcolor": "white",
           "lakecolor": "white",
           "landcolor": "white",
           "showlakes": true,
           "showland": true,
           "subunitcolor": "white"
          },
          "hoverlabel": {
           "align": "left"
          },
          "hovermode": "closest",
          "mapbox": {
           "style": "light"
          },
          "paper_bgcolor": "white",
          "plot_bgcolor": "white",
          "polar": {
           "angularaxis": {
            "gridcolor": "rgb(232,232,232)",
            "linecolor": "rgb(36,36,36)",
            "showgrid": false,
            "showline": true,
            "ticks": "outside"
           },
           "bgcolor": "white",
           "radialaxis": {
            "gridcolor": "rgb(232,232,232)",
            "linecolor": "rgb(36,36,36)",
            "showgrid": false,
            "showline": true,
            "ticks": "outside"
           }
          },
          "scene": {
           "xaxis": {
            "backgroundcolor": "white",
            "gridcolor": "rgb(232,232,232)",
            "gridwidth": 2,
            "linecolor": "rgb(36,36,36)",
            "showbackground": true,
            "showgrid": false,
            "showline": true,
            "ticks": "outside",
            "zeroline": false,
            "zerolinecolor": "rgb(36,36,36)"
           },
           "yaxis": {
            "backgroundcolor": "white",
            "gridcolor": "rgb(232,232,232)",
            "gridwidth": 2,
            "linecolor": "rgb(36,36,36)",
            "showbackground": true,
            "showgrid": false,
            "showline": true,
            "ticks": "outside",
            "zeroline": false,
            "zerolinecolor": "rgb(36,36,36)"
           },
           "zaxis": {
            "backgroundcolor": "white",
            "gridcolor": "rgb(232,232,232)",
            "gridwidth": 2,
            "linecolor": "rgb(36,36,36)",
            "showbackground": true,
            "showgrid": false,
            "showline": true,
            "ticks": "outside",
            "zeroline": false,
            "zerolinecolor": "rgb(36,36,36)"
           }
          },
          "shapedefaults": {
           "fillcolor": "black",
           "line": {
            "width": 0
           },
           "opacity": 0.3
          },
          "ternary": {
           "aaxis": {
            "gridcolor": "rgb(232,232,232)",
            "linecolor": "rgb(36,36,36)",
            "showgrid": false,
            "showline": true,
            "ticks": "outside"
           },
           "baxis": {
            "gridcolor": "rgb(232,232,232)",
            "linecolor": "rgb(36,36,36)",
            "showgrid": false,
            "showline": true,
            "ticks": "outside"
           },
           "bgcolor": "white",
           "caxis": {
            "gridcolor": "rgb(232,232,232)",
            "linecolor": "rgb(36,36,36)",
            "showgrid": false,
            "showline": true,
            "ticks": "outside"
           }
          },
          "title": {
           "x": 0.05
          },
          "xaxis": {
           "automargin": true,
           "gridcolor": "rgb(232,232,232)",
           "linecolor": "rgb(36,36,36)",
           "showgrid": false,
           "showline": true,
           "ticks": "outside",
           "title": {
            "standoff": 15
           },
           "zeroline": false,
           "zerolinecolor": "rgb(36,36,36)"
          },
          "yaxis": {
           "automargin": true,
           "gridcolor": "rgb(232,232,232)",
           "linecolor": "rgb(36,36,36)",
           "showgrid": false,
           "showline": true,
           "ticks": "outside",
           "title": {
            "standoff": 15
           },
           "zeroline": false,
           "zerolinecolor": "rgb(36,36,36)"
          }
         }
        },
        "title": {
         "text": "<b>BMI comparison</b><br><sup> based on countries life expectancy</sup>"
        },
        "xaxis": {
         "anchor": "y",
         "domain": [
          0,
          1
         ],
         "tickfont": {
          "size": 12
         },
         "title": {
          "text": ""
         }
        },
        "yaxis": {
         "anchor": "x",
         "domain": [
          0,
          1
         ],
         "showticklabels": false,
         "tickfont": {
          "size": 12
         },
         "title": {
          "text": ""
         }
        }
       }
      }
     },
     "metadata": {},
     "output_type": "display_data"
    }
   ],
   "source": [
    "conn = get_conn()\n",
    "cursor = conn.cursor()\n",
    "\n",
    "query = \"\"\"\n",
    "select country, round(AVG(`Life expectancy`),1) as AVG_Life_Expectancy, round(AVG(BMI),2) as Avg_BMI\n",
    "from worldlifeexpectancy\n",
    "group by country\n",
    "having Avg_BMI > 0\n",
    "and  AVG_Life_Expectancy > 0\n",
    "order by Avg_BMI asc;\n",
    "\"\"\"\n",
    "\n",
    "cursor.execute(query)\n",
    "data = cursor.fetchall()\n",
    "\n",
    "country = [row[0] for row in data]\n",
    "AVG_Life_Exp = [row[1] for row in data]\n",
    "Avg_BMI = [row[2] for row in data]\n",
    "\n",
    "data = pd.DataFrame({\n",
    "        'Country': country,\n",
    "        'Avg_BMI': Avg_BMI,\n",
    "        'AVG_Life_Exp': AVG_Life_Exp\n",
    "})\n",
    "\n",
    "\n",
    "fig = px.scatter(data, x='AVG_Life_Exp', y='Avg_BMI', template='simple_white', color='Avg_BMI', color_continuous_scale='Reds',  \n",
    "title='<b>BMI comparison</b><br><sup> based on countries life expectancy</sup>', custom_data=['Country', 'Avg_BMI', 'AVG_Life_Exp'])\n",
    "\n",
    "\n",
    "fig.update_traces(hovertemplate=\"<b>Country</b>: %{customdata[0]}<br>\"\n",
    "                 \"<b>Avg Life Exp</b>: %{customdata[1]:.1f} years<br>\"\n",
    "                 \"<b>Avg BMI</b>: %{customdata[2]:.2f}\")\n",
    "\n",
    "fig.update_xaxes(tickfont=dict(size=12), title_text='')\n",
    "fig.update_yaxes(tickfont=dict(size=12),title_text='', showticklabels=False)\n",
    "#fig.update_traces(hovertemplate='%{x} -' + 'Avg_BM: %{customdata[0]:.1f} )\n",
    "fig.show()"
   ]
  },
  {
   "cell_type": "markdown",
   "metadata": {},
   "source": [
    "# Adult mortality correlation to Life Expectancy"
   ]
  },
  {
   "cell_type": "code",
   "execution_count": 82,
   "metadata": {},
   "outputs": [
    {
     "name": "stdout",
     "output_type": "stream",
     "text": [
      "Connection to MySQL database established successfully!\n"
     ]
    },
    {
     "data": {
      "application/vnd.plotly.v1+json": {
       "config": {
        "plotlyServerURL": "https://plot.ly"
       },
       "data": [
        {
         "customdata": [
          [
           "2007",
           "77.8",
           "89"
          ],
          [
           "2008",
           "78",
           "88"
          ],
          [
           "2009",
           "78.2",
           "87"
          ],
          [
           "2010",
           "78.4",
           "86"
          ],
          [
           "2011",
           "78.8",
           "83"
          ],
          [
           "2012",
           "78.9",
           "82"
          ],
          [
           "2013",
           "79.3",
           "82"
          ],
          [
           "2014",
           "80",
           "80"
          ],
          [
           "2015",
           "80.4",
           "80"
          ],
          [
           "2016",
           "82.1",
           "78"
          ],
          [
           "2017",
           "82.2",
           "77"
          ],
          [
           "2018",
           "84.3",
           "74"
          ],
          [
           "2019",
           "83.1",
           "72"
          ],
          [
           "2020",
           "84.2",
           "72"
          ],
          [
           "2021",
           "82.2",
           "71"
          ],
          [
           "2022",
           "81.2",
           "69"
          ]
         ],
         "hoverinfo": "skip",
         "hovertemplate": "<b>Year</b>: %{customdata[0]}<br><b>Life Exp</b>: %{customdata[1]:.1f} years<br><b>Adult Mortality</b>: %{customdata[2]:.1f} years<br>",
         "legendgroup": "",
         "line": {
          "color": "indianred",
          "dash": "solid"
         },
         "marker": {
          "symbol": "circle"
         },
         "mode": "lines+markers",
         "name": "Adult Mortality",
         "orientation": "v",
         "showlegend": true,
         "type": "scatter",
         "x": [
          "2007",
          "2008",
          "2009",
          "2010",
          "2011",
          "2012",
          "2013",
          "2014",
          "2015",
          "2016",
          "2017",
          "2018",
          "2019",
          "2020",
          "2021",
          "2022"
         ],
         "xaxis": "x",
         "y": [
          "89",
          "88",
          "87",
          "86",
          "83",
          "82",
          "82",
          "80",
          "80",
          "78",
          "77",
          "74",
          "72",
          "72",
          "71",
          "69"
         ],
         "yaxis": "y"
        },
        {
         "hoverinfo": "skip",
         "hovertemplate": "<b>Year</b>: %{customdata[0]}<br><b>Life Exp</b>: %{customdata[1]:.1f} years<br><b>Adult Mortality</b>: %{customdata[2]:.1f} years<br>",
         "line": {
          "color": "indianred"
         },
         "marker": {
          "color": "indianred"
         },
         "name": "Adult Mortality",
         "showlegend": true,
         "type": "scatter",
         "x": [
          "Adult_Mortality"
         ],
         "y": []
        }
       ],
       "layout": {
        "legend": {
         "tracegroupgap": 0
        },
        "showlegend": true,
        "template": {
         "data": {
          "bar": [
           {
            "error_x": {
             "color": "rgb(36,36,36)"
            },
            "error_y": {
             "color": "rgb(36,36,36)"
            },
            "marker": {
             "line": {
              "color": "white",
              "width": 0.5
             },
             "pattern": {
              "fillmode": "overlay",
              "size": 10,
              "solidity": 0.2
             }
            },
            "type": "bar"
           }
          ],
          "barpolar": [
           {
            "marker": {
             "line": {
              "color": "white",
              "width": 0.5
             },
             "pattern": {
              "fillmode": "overlay",
              "size": 10,
              "solidity": 0.2
             }
            },
            "type": "barpolar"
           }
          ],
          "carpet": [
           {
            "aaxis": {
             "endlinecolor": "rgb(36,36,36)",
             "gridcolor": "white",
             "linecolor": "white",
             "minorgridcolor": "white",
             "startlinecolor": "rgb(36,36,36)"
            },
            "baxis": {
             "endlinecolor": "rgb(36,36,36)",
             "gridcolor": "white",
             "linecolor": "white",
             "minorgridcolor": "white",
             "startlinecolor": "rgb(36,36,36)"
            },
            "type": "carpet"
           }
          ],
          "choropleth": [
           {
            "colorbar": {
             "outlinewidth": 1,
             "tickcolor": "rgb(36,36,36)",
             "ticks": "outside"
            },
            "type": "choropleth"
           }
          ],
          "contour": [
           {
            "colorbar": {
             "outlinewidth": 1,
             "tickcolor": "rgb(36,36,36)",
             "ticks": "outside"
            },
            "colorscale": [
             [
              0,
              "#440154"
             ],
             [
              0.1111111111111111,
              "#482878"
             ],
             [
              0.2222222222222222,
              "#3e4989"
             ],
             [
              0.3333333333333333,
              "#31688e"
             ],
             [
              0.4444444444444444,
              "#26828e"
             ],
             [
              0.5555555555555556,
              "#1f9e89"
             ],
             [
              0.6666666666666666,
              "#35b779"
             ],
             [
              0.7777777777777778,
              "#6ece58"
             ],
             [
              0.8888888888888888,
              "#b5de2b"
             ],
             [
              1,
              "#fde725"
             ]
            ],
            "type": "contour"
           }
          ],
          "contourcarpet": [
           {
            "colorbar": {
             "outlinewidth": 1,
             "tickcolor": "rgb(36,36,36)",
             "ticks": "outside"
            },
            "type": "contourcarpet"
           }
          ],
          "heatmap": [
           {
            "colorbar": {
             "outlinewidth": 1,
             "tickcolor": "rgb(36,36,36)",
             "ticks": "outside"
            },
            "colorscale": [
             [
              0,
              "#440154"
             ],
             [
              0.1111111111111111,
              "#482878"
             ],
             [
              0.2222222222222222,
              "#3e4989"
             ],
             [
              0.3333333333333333,
              "#31688e"
             ],
             [
              0.4444444444444444,
              "#26828e"
             ],
             [
              0.5555555555555556,
              "#1f9e89"
             ],
             [
              0.6666666666666666,
              "#35b779"
             ],
             [
              0.7777777777777778,
              "#6ece58"
             ],
             [
              0.8888888888888888,
              "#b5de2b"
             ],
             [
              1,
              "#fde725"
             ]
            ],
            "type": "heatmap"
           }
          ],
          "heatmapgl": [
           {
            "colorbar": {
             "outlinewidth": 1,
             "tickcolor": "rgb(36,36,36)",
             "ticks": "outside"
            },
            "colorscale": [
             [
              0,
              "#440154"
             ],
             [
              0.1111111111111111,
              "#482878"
             ],
             [
              0.2222222222222222,
              "#3e4989"
             ],
             [
              0.3333333333333333,
              "#31688e"
             ],
             [
              0.4444444444444444,
              "#26828e"
             ],
             [
              0.5555555555555556,
              "#1f9e89"
             ],
             [
              0.6666666666666666,
              "#35b779"
             ],
             [
              0.7777777777777778,
              "#6ece58"
             ],
             [
              0.8888888888888888,
              "#b5de2b"
             ],
             [
              1,
              "#fde725"
             ]
            ],
            "type": "heatmapgl"
           }
          ],
          "histogram": [
           {
            "marker": {
             "line": {
              "color": "white",
              "width": 0.6
             }
            },
            "type": "histogram"
           }
          ],
          "histogram2d": [
           {
            "colorbar": {
             "outlinewidth": 1,
             "tickcolor": "rgb(36,36,36)",
             "ticks": "outside"
            },
            "colorscale": [
             [
              0,
              "#440154"
             ],
             [
              0.1111111111111111,
              "#482878"
             ],
             [
              0.2222222222222222,
              "#3e4989"
             ],
             [
              0.3333333333333333,
              "#31688e"
             ],
             [
              0.4444444444444444,
              "#26828e"
             ],
             [
              0.5555555555555556,
              "#1f9e89"
             ],
             [
              0.6666666666666666,
              "#35b779"
             ],
             [
              0.7777777777777778,
              "#6ece58"
             ],
             [
              0.8888888888888888,
              "#b5de2b"
             ],
             [
              1,
              "#fde725"
             ]
            ],
            "type": "histogram2d"
           }
          ],
          "histogram2dcontour": [
           {
            "colorbar": {
             "outlinewidth": 1,
             "tickcolor": "rgb(36,36,36)",
             "ticks": "outside"
            },
            "colorscale": [
             [
              0,
              "#440154"
             ],
             [
              0.1111111111111111,
              "#482878"
             ],
             [
              0.2222222222222222,
              "#3e4989"
             ],
             [
              0.3333333333333333,
              "#31688e"
             ],
             [
              0.4444444444444444,
              "#26828e"
             ],
             [
              0.5555555555555556,
              "#1f9e89"
             ],
             [
              0.6666666666666666,
              "#35b779"
             ],
             [
              0.7777777777777778,
              "#6ece58"
             ],
             [
              0.8888888888888888,
              "#b5de2b"
             ],
             [
              1,
              "#fde725"
             ]
            ],
            "type": "histogram2dcontour"
           }
          ],
          "mesh3d": [
           {
            "colorbar": {
             "outlinewidth": 1,
             "tickcolor": "rgb(36,36,36)",
             "ticks": "outside"
            },
            "type": "mesh3d"
           }
          ],
          "parcoords": [
           {
            "line": {
             "colorbar": {
              "outlinewidth": 1,
              "tickcolor": "rgb(36,36,36)",
              "ticks": "outside"
             }
            },
            "type": "parcoords"
           }
          ],
          "pie": [
           {
            "automargin": true,
            "type": "pie"
           }
          ],
          "scatter": [
           {
            "fillpattern": {
             "fillmode": "overlay",
             "size": 10,
             "solidity": 0.2
            },
            "type": "scatter"
           }
          ],
          "scatter3d": [
           {
            "line": {
             "colorbar": {
              "outlinewidth": 1,
              "tickcolor": "rgb(36,36,36)",
              "ticks": "outside"
             }
            },
            "marker": {
             "colorbar": {
              "outlinewidth": 1,
              "tickcolor": "rgb(36,36,36)",
              "ticks": "outside"
             }
            },
            "type": "scatter3d"
           }
          ],
          "scattercarpet": [
           {
            "marker": {
             "colorbar": {
              "outlinewidth": 1,
              "tickcolor": "rgb(36,36,36)",
              "ticks": "outside"
             }
            },
            "type": "scattercarpet"
           }
          ],
          "scattergeo": [
           {
            "marker": {
             "colorbar": {
              "outlinewidth": 1,
              "tickcolor": "rgb(36,36,36)",
              "ticks": "outside"
             }
            },
            "type": "scattergeo"
           }
          ],
          "scattergl": [
           {
            "marker": {
             "colorbar": {
              "outlinewidth": 1,
              "tickcolor": "rgb(36,36,36)",
              "ticks": "outside"
             }
            },
            "type": "scattergl"
           }
          ],
          "scattermapbox": [
           {
            "marker": {
             "colorbar": {
              "outlinewidth": 1,
              "tickcolor": "rgb(36,36,36)",
              "ticks": "outside"
             }
            },
            "type": "scattermapbox"
           }
          ],
          "scatterpolar": [
           {
            "marker": {
             "colorbar": {
              "outlinewidth": 1,
              "tickcolor": "rgb(36,36,36)",
              "ticks": "outside"
             }
            },
            "type": "scatterpolar"
           }
          ],
          "scatterpolargl": [
           {
            "marker": {
             "colorbar": {
              "outlinewidth": 1,
              "tickcolor": "rgb(36,36,36)",
              "ticks": "outside"
             }
            },
            "type": "scatterpolargl"
           }
          ],
          "scatterternary": [
           {
            "marker": {
             "colorbar": {
              "outlinewidth": 1,
              "tickcolor": "rgb(36,36,36)",
              "ticks": "outside"
             }
            },
            "type": "scatterternary"
           }
          ],
          "surface": [
           {
            "colorbar": {
             "outlinewidth": 1,
             "tickcolor": "rgb(36,36,36)",
             "ticks": "outside"
            },
            "colorscale": [
             [
              0,
              "#440154"
             ],
             [
              0.1111111111111111,
              "#482878"
             ],
             [
              0.2222222222222222,
              "#3e4989"
             ],
             [
              0.3333333333333333,
              "#31688e"
             ],
             [
              0.4444444444444444,
              "#26828e"
             ],
             [
              0.5555555555555556,
              "#1f9e89"
             ],
             [
              0.6666666666666666,
              "#35b779"
             ],
             [
              0.7777777777777778,
              "#6ece58"
             ],
             [
              0.8888888888888888,
              "#b5de2b"
             ],
             [
              1,
              "#fde725"
             ]
            ],
            "type": "surface"
           }
          ],
          "table": [
           {
            "cells": {
             "fill": {
              "color": "rgb(237,237,237)"
             },
             "line": {
              "color": "white"
             }
            },
            "header": {
             "fill": {
              "color": "rgb(217,217,217)"
             },
             "line": {
              "color": "white"
             }
            },
            "type": "table"
           }
          ]
         },
         "layout": {
          "annotationdefaults": {
           "arrowhead": 0,
           "arrowwidth": 1
          },
          "autotypenumbers": "strict",
          "coloraxis": {
           "colorbar": {
            "outlinewidth": 1,
            "tickcolor": "rgb(36,36,36)",
            "ticks": "outside"
           }
          },
          "colorscale": {
           "diverging": [
            [
             0,
             "rgb(103,0,31)"
            ],
            [
             0.1,
             "rgb(178,24,43)"
            ],
            [
             0.2,
             "rgb(214,96,77)"
            ],
            [
             0.3,
             "rgb(244,165,130)"
            ],
            [
             0.4,
             "rgb(253,219,199)"
            ],
            [
             0.5,
             "rgb(247,247,247)"
            ],
            [
             0.6,
             "rgb(209,229,240)"
            ],
            [
             0.7,
             "rgb(146,197,222)"
            ],
            [
             0.8,
             "rgb(67,147,195)"
            ],
            [
             0.9,
             "rgb(33,102,172)"
            ],
            [
             1,
             "rgb(5,48,97)"
            ]
           ],
           "sequential": [
            [
             0,
             "#440154"
            ],
            [
             0.1111111111111111,
             "#482878"
            ],
            [
             0.2222222222222222,
             "#3e4989"
            ],
            [
             0.3333333333333333,
             "#31688e"
            ],
            [
             0.4444444444444444,
             "#26828e"
            ],
            [
             0.5555555555555556,
             "#1f9e89"
            ],
            [
             0.6666666666666666,
             "#35b779"
            ],
            [
             0.7777777777777778,
             "#6ece58"
            ],
            [
             0.8888888888888888,
             "#b5de2b"
            ],
            [
             1,
             "#fde725"
            ]
           ],
           "sequentialminus": [
            [
             0,
             "#440154"
            ],
            [
             0.1111111111111111,
             "#482878"
            ],
            [
             0.2222222222222222,
             "#3e4989"
            ],
            [
             0.3333333333333333,
             "#31688e"
            ],
            [
             0.4444444444444444,
             "#26828e"
            ],
            [
             0.5555555555555556,
             "#1f9e89"
            ],
            [
             0.6666666666666666,
             "#35b779"
            ],
            [
             0.7777777777777778,
             "#6ece58"
            ],
            [
             0.8888888888888888,
             "#b5de2b"
            ],
            [
             1,
             "#fde725"
            ]
           ]
          },
          "colorway": [
           "#1F77B4",
           "#FF7F0E",
           "#2CA02C",
           "#D62728",
           "#9467BD",
           "#8C564B",
           "#E377C2",
           "#7F7F7F",
           "#BCBD22",
           "#17BECF"
          ],
          "font": {
           "color": "rgb(36,36,36)"
          },
          "geo": {
           "bgcolor": "white",
           "lakecolor": "white",
           "landcolor": "white",
           "showlakes": true,
           "showland": true,
           "subunitcolor": "white"
          },
          "hoverlabel": {
           "align": "left"
          },
          "hovermode": "closest",
          "mapbox": {
           "style": "light"
          },
          "paper_bgcolor": "white",
          "plot_bgcolor": "white",
          "polar": {
           "angularaxis": {
            "gridcolor": "rgb(232,232,232)",
            "linecolor": "rgb(36,36,36)",
            "showgrid": false,
            "showline": true,
            "ticks": "outside"
           },
           "bgcolor": "white",
           "radialaxis": {
            "gridcolor": "rgb(232,232,232)",
            "linecolor": "rgb(36,36,36)",
            "showgrid": false,
            "showline": true,
            "ticks": "outside"
           }
          },
          "scene": {
           "xaxis": {
            "backgroundcolor": "white",
            "gridcolor": "rgb(232,232,232)",
            "gridwidth": 2,
            "linecolor": "rgb(36,36,36)",
            "showbackground": true,
            "showgrid": false,
            "showline": true,
            "ticks": "outside",
            "zeroline": false,
            "zerolinecolor": "rgb(36,36,36)"
           },
           "yaxis": {
            "backgroundcolor": "white",
            "gridcolor": "rgb(232,232,232)",
            "gridwidth": 2,
            "linecolor": "rgb(36,36,36)",
            "showbackground": true,
            "showgrid": false,
            "showline": true,
            "ticks": "outside",
            "zeroline": false,
            "zerolinecolor": "rgb(36,36,36)"
           },
           "zaxis": {
            "backgroundcolor": "white",
            "gridcolor": "rgb(232,232,232)",
            "gridwidth": 2,
            "linecolor": "rgb(36,36,36)",
            "showbackground": true,
            "showgrid": false,
            "showline": true,
            "ticks": "outside",
            "zeroline": false,
            "zerolinecolor": "rgb(36,36,36)"
           }
          },
          "shapedefaults": {
           "fillcolor": "black",
           "line": {
            "width": 0
           },
           "opacity": 0.3
          },
          "ternary": {
           "aaxis": {
            "gridcolor": "rgb(232,232,232)",
            "linecolor": "rgb(36,36,36)",
            "showgrid": false,
            "showline": true,
            "ticks": "outside"
           },
           "baxis": {
            "gridcolor": "rgb(232,232,232)",
            "linecolor": "rgb(36,36,36)",
            "showgrid": false,
            "showline": true,
            "ticks": "outside"
           },
           "bgcolor": "white",
           "caxis": {
            "gridcolor": "rgb(232,232,232)",
            "linecolor": "rgb(36,36,36)",
            "showgrid": false,
            "showline": true,
            "ticks": "outside"
           }
          },
          "title": {
           "x": 0.05
          },
          "xaxis": {
           "automargin": true,
           "gridcolor": "rgb(232,232,232)",
           "linecolor": "rgb(36,36,36)",
           "showgrid": false,
           "showline": true,
           "ticks": "outside",
           "title": {
            "standoff": 15
           },
           "zeroline": false,
           "zerolinecolor": "rgb(36,36,36)"
          },
          "yaxis": {
           "automargin": true,
           "gridcolor": "rgb(232,232,232)",
           "linecolor": "rgb(36,36,36)",
           "showgrid": false,
           "showline": true,
           "ticks": "outside",
           "title": {
            "standoff": 15
           },
           "zeroline": false,
           "zerolinecolor": "rgb(36,36,36)"
          }
         }
        },
        "title": {
         "text": "<b>Adult mortality correlation</b><br><sup> In the UK</sup>"
        },
        "xaxis": {
         "anchor": "y",
         "domain": [
          0,
          1
         ],
         "tickfont": {
          "size": 12
         },
         "title": {
          "text": ""
         }
        },
        "yaxis": {
         "anchor": "x",
         "categoryarray": [
          "2007",
          "2008",
          "2009",
          "2010",
          "2011",
          "2012",
          "2013",
          "2014",
          "2015",
          "2016",
          "2017",
          "2018",
          "2019",
          "2020",
          "2021",
          "2022"
         ],
         "domain": [
          0,
          1
         ],
         "showticklabels": false,
         "tickfont": {
          "size": 12
         },
         "title": {
          "text": ""
         }
        }
       }
      }
     },
     "metadata": {},
     "output_type": "display_data"
    }
   ],
   "source": [
    "conn = get_conn()\n",
    "cursor = conn.cursor()\n",
    "\n",
    "\n",
    "query = \"\"\"\n",
    "select country, year, `Life expectancy`, `Adult mortality`, \n",
    "sum(`Adult mortality`)over(PARTITION by country order by Year) as Rolling_Adult_Life_Mortality\n",
    "from worldlifeexpectancy\n",
    "where country like '%United Kingdom%';\n",
    "\"\"\"\n",
    "\n",
    "cursor.execute(query)\n",
    "data = cursor.fetchall()\n",
    "\n",
    "country = [row [0] for row in data]\n",
    "year = [row [1] for row in data]\n",
    "Life_Exp = [row [2] for row in data]\n",
    "Adult_Mortality = [row [3] for row in data]\n",
    "\n",
    "\n",
    "data = pd.DataFrame({\n",
    "        'Country': country,\n",
    "        'Year': year,\n",
    "        'Life_Exp': Life_Exp,\n",
    "        'Adult_Mortality': Adult_Mortality\n",
    "})\n",
    "\n",
    "fig = px.line(\n",
    "        data, x='Year', y='Adult_Mortality',\n",
    "        template='simple_white', custom_data=['Year', 'Life_Exp', 'Adult_Mortality'],\n",
    "        title='<b>Adult mortality correlation</b><br><sup> In the UK</sup>', markers=True,\n",
    "        \n",
    "        \n",
    ")\n",
    "\n",
    "\n",
    "fig.add_trace(\n",
    "    go.Scatter(x=['Adult_Mortality'],y=[], marker=dict(color='indianred'))\n",
    ")\n",
    "\n",
    "\n",
    "\n",
    "\n",
    "fig.update_traces(\n",
    "                  hovertemplate=\n",
    "                 \"<b>Year</b>: %{customdata[0]}<br>\"\n",
    "                 \"<b>Life Exp</b>: %{customdata[1]:.1f} years<br>\"\n",
    "                 \"<b>Adult Mortality</b>: %{customdata[2]:.1f} years<br>\", line_color='indianred',\n",
    "                 name='Adult Mortality', showlegend=True, hoverinfo='skip'\n",
    "                 )\n",
    "\n",
    "\n",
    "\n",
    "y_values = sorted(data['Year'].unique())\n",
    "#x_values = sorted(data['Year'].unique())\n",
    "\n",
    "fig.update_xaxes(tickfont=dict(size=12), title_text='')\n",
    "fig.update_yaxes(tickfont=dict(size=12),title_text='', \n",
    "                 categoryarray=y_values, showticklabels=False)\n",
    "fig.update_layout(showlegend=True)\n",
    "fig.show()"
   ]
  },
  {
   "cell_type": "code",
   "execution_count": null,
   "metadata": {},
   "outputs": [],
   "source": []
  }
 ],
 "metadata": {
  "kernelspec": {
   "display_name": "Python 3",
   "language": "python",
   "name": "python3"
  },
  "language_info": {
   "codemirror_mode": {
    "name": "ipython",
    "version": 3
   },
   "file_extension": ".py",
   "mimetype": "text/x-python",
   "name": "python",
   "nbconvert_exporter": "python",
   "pygments_lexer": "ipython3",
   "version": "3.12.1"
  }
 },
 "nbformat": 4,
 "nbformat_minor": 2
}
